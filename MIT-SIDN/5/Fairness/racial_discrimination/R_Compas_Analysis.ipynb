{
  "nbformat": 4,
  "nbformat_minor": 0,
  "metadata": {
    "colab": {
      "name": "Untitled70.ipynb",
      "provenance": []
    },
    "kernelspec": {
      "name": "python3",
      "display_name": "Python 3"
    },
    "language_info": {
      "name": "python"
    }
  },
  "cells": [
    {
      "cell_type": "code",
      "metadata": {
        "colab": {
          "base_uri": "https://localhost:8080/"
        },
        "id": "Vm0-GEwgkPYU",
        "outputId": "53ed3fb6-6541-4ccc-edee-735c7528a203"
      },
      "source": [
        "\n",
        "\n",
        "# filter dplyr warnings\n",
        "%load_ext rpy2.ipython\n",
        "import warnings\n",
        "warnings.filterwarnings('ignore')\n",
        "\n"
      ],
      "execution_count": 2,
      "outputs": [
        {
          "output_type": "stream",
          "text": [
            "The rpy2.ipython extension is already loaded. To reload it, use:\n",
            "  %reload_ext rpy2.ipython\n"
          ],
          "name": "stdout"
        }
      ]
    },
    {
      "cell_type": "markdown",
      "metadata": {
        "id": "OVipmNyykzST"
      },
      "source": [
        "How to use R and Python together in Colab"
      ]
    },
    {
      "cell_type": "code",
      "metadata": {
        "colab": {
          "base_uri": "https://localhost:8080/"
        },
        "id": "iF4RTPQjkozZ",
        "outputId": "ec502f98-891e-4701-ac78-ef6c73c4d13d"
      },
      "source": [
        "%load_ext rpy2.ipython"
      ],
      "execution_count": 4,
      "outputs": [
        {
          "output_type": "stream",
          "text": [
            "The rpy2.ipython extension is already loaded. To reload it, use:\n",
            "  %reload_ext rpy2.ipython\n"
          ],
          "name": "stdout"
        }
      ]
    },
    {
      "cell_type": "markdown",
      "metadata": {
        "id": "K9JX_fYbk0tt"
      },
      "source": [
        "测试R是否可用"
      ]
    },
    {
      "cell_type": "code",
      "metadata": {
        "colab": {
          "base_uri": "https://localhost:8080/"
        },
        "id": "XIqT3sJVkXnP",
        "outputId": "c7026db8-529d-4493-fc15-c8c951e77c77"
      },
      "source": [
        "%%R\n",
        "x <- seq(0, 2*pi, length.out=50)\n",
        "x"
      ],
      "execution_count": 6,
      "outputs": [
        {
          "output_type": "stream",
          "text": [
            " [1] 0.0000000 0.1282283 0.2564565 0.3846848 0.5129131 0.6411414 0.7693696\n",
            " [8] 0.8975979 1.0258262 1.1540544 1.2822827 1.4105110 1.5387393 1.6669675\n",
            "[15] 1.7951958 1.9234241 2.0516523 2.1798806 2.3081089 2.4363372 2.5645654\n",
            "[22] 2.6927937 2.8210220 2.9492502 3.0774785 3.2057068 3.3339351 3.4621633\n",
            "[29] 3.5903916 3.7186199 3.8468481 3.9750764 4.1033047 4.2315330 4.3597612\n",
            "[36] 4.4879895 4.6162178 4.7444460 4.8726743 5.0009026 5.1291309 5.2573591\n",
            "[43] 5.3855874 5.5138157 5.6420439 5.7702722 5.8985005 6.0267288 6.1549570\n",
            "[50] 6.2831853\n"
          ],
          "name": "stdout"
        }
      ]
    },
    {
      "cell_type": "code",
      "metadata": {
        "colab": {
          "base_uri": "https://localhost:8080/"
        },
        "id": "5n8ssilCkukW",
        "outputId": "dfec375d-ab3c-4a91-c7c3-0d5fa742bfff"
      },
      "source": [
        "!wget https://github.com/propublica/compas-analysis/raw/master/compas-scores-two-years.csv"
      ],
      "execution_count": 7,
      "outputs": [
        {
          "output_type": "stream",
          "text": [
            "--2021-07-06 02:09:38--  https://github.com/propublica/compas-analysis/raw/master/compas-scores-two-years.csv\n",
            "Resolving github.com (github.com)... 140.82.114.4\n",
            "Connecting to github.com (github.com)|140.82.114.4|:443... connected.\n",
            "HTTP request sent, awaiting response... 302 Found\n",
            "Location: https://raw.githubusercontent.com/propublica/compas-analysis/master/compas-scores-two-years.csv [following]\n",
            "--2021-07-06 02:09:39--  https://raw.githubusercontent.com/propublica/compas-analysis/master/compas-scores-two-years.csv\n",
            "Resolving raw.githubusercontent.com (raw.githubusercontent.com)... 185.199.108.133, 185.199.109.133, 185.199.110.133, ...\n",
            "Connecting to raw.githubusercontent.com (raw.githubusercontent.com)|185.199.108.133|:443... connected.\n",
            "HTTP request sent, awaiting response... 200 OK\n",
            "Length: 2546489 (2.4M) [text/plain]\n",
            "Saving to: ‘compas-scores-two-years.csv’\n",
            "\n",
            "compas-scores-two-y 100%[===================>]   2.43M  --.-KB/s    in 0.1s    \n",
            "\n",
            "2021-07-06 02:09:39 (22.3 MB/s) - ‘compas-scores-two-years.csv’ saved [2546489/2546489]\n",
            "\n"
          ],
          "name": "stdout"
        }
      ]
    },
    {
      "cell_type": "code",
      "metadata": {
        "colab": {
          "base_uri": "https://localhost:8080/"
        },
        "id": "0zvqe_wXk_-l",
        "outputId": "b226f0b9-1a95-447e-9dd3-d0c85b26f166"
      },
      "source": [
        "%%R\n",
        "library(dplyr)\n",
        "library(ggplot2)\n",
        "raw_data <- read.csv(\"./compas-scores-two-years.csv\")\n",
        "nrow(raw_data)"
      ],
      "execution_count": 8,
      "outputs": [
        {
          "output_type": "stream",
          "text": [
            "[1] 7214\n"
          ],
          "name": "stdout"
        }
      ]
    },
    {
      "cell_type": "markdown",
      "metadata": {
        "id": "F3E0uiJ9lLRg"
      },
      "source": [
        "\n",
        "\n",
        "However not all of the rows are useable for the first round of analysis.\n",
        "\n",
        "There are a number of reasons remove rows because of missing data:\n",
        "\n",
        "    If the charge date of a defendants Compas scored crime was not within 30 days from when the person was arrested, we assume that because of data quality reasons, that we do not have the right offense.\n",
        "    We coded the recidivist flag -- is_recid -- to be -1 if we could not find a compas case at all.\n",
        "    In a similar vein, ordinary traffic offenses -- those with a c_charge_degree of 'O' -- will not result in Jail time are removed (only two of them).\n",
        "    We filtered the underlying data from Broward county to include only those rows representing people who had either recidivated in two years, or had at least two years outside of a correctional facility.\n",
        "\n"
      ]
    },
    {
      "cell_type": "code",
      "metadata": {
        "colab": {
          "base_uri": "https://localhost:8080/"
        },
        "id": "JNyT1QlzlMJ7",
        "outputId": "4b97a688-dad3-48ec-e8c3-610e9c0feda3"
      },
      "source": [
        "%%R\n",
        "df <- dplyr::select(raw_data, age, c_charge_degree, race, age_cat, score_text, sex, priors_count, \n",
        "                    days_b_screening_arrest, decile_score, is_recid, two_year_recid, c_jail_in, c_jail_out) %>% \n",
        "        filter(days_b_screening_arrest <= 30) %>%\n",
        "        filter(days_b_screening_arrest >= -30) %>%\n",
        "        filter(is_recid != -1) %>%\n",
        "        filter(c_charge_degree != \"O\") %>%\n",
        "        filter(score_text != 'N/A')\n",
        "nrow(df)"
      ],
      "execution_count": 9,
      "outputs": [
        {
          "output_type": "stream",
          "text": [
            "[1] 6172\n"
          ],
          "name": "stdout"
        }
      ]
    },
    {
      "cell_type": "markdown",
      "metadata": {
        "id": "ZvhaiivblSqI"
      },
      "source": [
        "Higher COMPAS scores are slightly correlated with a longer length of stay."
      ]
    },
    {
      "cell_type": "code",
      "metadata": {
        "colab": {
          "base_uri": "https://localhost:8080/"
        },
        "id": "STna05x-lOf5",
        "outputId": "6e8714c6-0391-4176-9164-4abed464f9ce"
      },
      "source": [
        "%%R\n",
        "df$length_of_stay <- as.numeric(as.Date(df$c_jail_out) - as.Date(df$c_jail_in))\n",
        "cor(df$length_of_stay, df$decile_score)"
      ],
      "execution_count": 10,
      "outputs": [
        {
          "output_type": "stream",
          "text": [
            "[1] 0.2073297\n"
          ],
          "name": "stdout"
        }
      ]
    },
    {
      "cell_type": "markdown",
      "metadata": {
        "id": "nL7h2PXNlZge"
      },
      "source": [
        "After filtering we have the following demographic breakdown:"
      ]
    },
    {
      "cell_type": "code",
      "metadata": {
        "colab": {
          "base_uri": "https://localhost:8080/"
        },
        "id": "_HuCT8txlZ1N",
        "outputId": "c7843f9e-25fc-4a13-fe9d-252030fafb5b"
      },
      "source": [
        "%%R\n",
        "summary(df$age_cat)"
      ],
      "execution_count": 11,
      "outputs": [
        {
          "output_type": "stream",
          "text": [
            "   Length     Class      Mode \n",
            "     6172 character character \n"
          ],
          "name": "stdout"
        }
      ]
    },
    {
      "cell_type": "code",
      "metadata": {
        "colab": {
          "base_uri": "https://localhost:8080/"
        },
        "id": "itUJgldxleCV",
        "outputId": "58615018-076d-4f40-88ee-29a69686ef02"
      },
      "source": [
        "%%R\n",
        "summary(df$race)"
      ],
      "execution_count": 12,
      "outputs": [
        {
          "output_type": "stream",
          "text": [
            "   Length     Class      Mode \n",
            "     6172 character character \n"
          ],
          "name": "stdout"
        }
      ]
    },
    {
      "cell_type": "code",
      "metadata": {
        "colab": {
          "base_uri": "https://localhost:8080/"
        },
        "id": "kcw634hJlgQz",
        "outputId": "513eca94-0df0-454e-820c-1cf5d20b63f4"
      },
      "source": [
        "print(\"Black defendants: %.2f%%\" %            (3175 / 6172 * 100))\n",
        "print(\"White defendants: %.2f%%\" %            (2103 / 6172 * 100))\n",
        "print(\"Hispanic defendants: %.2f%%\" %         (509  / 6172 * 100))\n",
        "print(\"Asian defendants: %.2f%%\" %            (31   / 6172 * 100))\n",
        "print(\"Native American defendants: %.2f%%\" %  (11   / 6172 * 100))"
      ],
      "execution_count": 13,
      "outputs": [
        {
          "output_type": "stream",
          "text": [
            "Black defendants: 51.44%\n",
            "White defendants: 34.07%\n",
            "Hispanic defendants: 8.25%\n",
            "Asian defendants: 0.50%\n",
            "Native American defendants: 0.18%\n"
          ],
          "name": "stdout"
        }
      ]
    },
    {
      "cell_type": "code",
      "metadata": {
        "colab": {
          "base_uri": "https://localhost:8080/"
        },
        "id": "jH7jwP10ljpb",
        "outputId": "106849fe-9bb4-40bb-cdf3-10a7d9e6fcc9"
      },
      "source": [
        "%%R\n",
        "summary(df$score_text)"
      ],
      "execution_count": 14,
      "outputs": [
        {
          "output_type": "stream",
          "text": [
            "   Length     Class      Mode \n",
            "     6172 character character \n"
          ],
          "name": "stdout"
        }
      ]
    },
    {
      "cell_type": "code",
      "metadata": {
        "colab": {
          "base_uri": "https://localhost:8080/"
        },
        "id": "_hd2GrUWlmV-",
        "outputId": "80a4d13f-ce9b-4a7e-c9c3-6fe62ea22f4b"
      },
      "source": [
        "%%R\n",
        "xtabs(~ sex + race, data=df)"
      ],
      "execution_count": 15,
      "outputs": [
        {
          "output_type": "stream",
          "text": [
            "        race\n",
            "sex      African-American Asian Caucasian Hispanic Native American Other\n",
            "  Female              549     2       482       82               2    58\n",
            "  Male               2626    29      1621      427               9   285\n"
          ],
          "name": "stdout"
        }
      ]
    },
    {
      "cell_type": "code",
      "metadata": {
        "colab": {
          "base_uri": "https://localhost:8080/"
        },
        "id": "Eiiq-3vAlnNy",
        "outputId": "40b5ac56-6123-430e-9332-1f9e3975f8ee"
      },
      "source": [
        "%%R\n",
        "summary(df$sex)\n"
      ],
      "execution_count": 16,
      "outputs": [
        {
          "output_type": "stream",
          "text": [
            "   Length     Class      Mode \n",
            "     6172 character character \n"
          ],
          "name": "stdout"
        }
      ]
    },
    {
      "cell_type": "code",
      "metadata": {
        "colab": {
          "base_uri": "https://localhost:8080/"
        },
        "id": "3feXkjiOlp7p",
        "outputId": "5612d6ec-d0a8-41b5-90f2-e6da823dd2fe"
      },
      "source": [
        "print(\"Men: %.2f%%\" %   (4997 / 6172 * 100))\n",
        "print(\"Women: %.2f%%\" % (1175 / 6172 * 100))"
      ],
      "execution_count": 17,
      "outputs": [
        {
          "output_type": "stream",
          "text": [
            "Men: 80.96%\n",
            "Women: 19.04%\n"
          ],
          "name": "stdout"
        }
      ]
    },
    {
      "cell_type": "code",
      "metadata": {
        "colab": {
          "base_uri": "https://localhost:8080/"
        },
        "id": "uvRSYSuvlsUm",
        "outputId": "69fa6a72-cd68-4c74-ec62-339650726ea2"
      },
      "source": [
        "%%R\n",
        "nrow(filter(df, two_year_recid == 1))"
      ],
      "execution_count": 18,
      "outputs": [
        {
          "output_type": "stream",
          "text": [
            "[1] 2809\n"
          ],
          "name": "stdout"
        }
      ]
    },
    {
      "cell_type": "code",
      "metadata": {
        "colab": {
          "base_uri": "https://localhost:8080/"
        },
        "id": "EacVRnkllv3A",
        "outputId": "100ed696-5f32-4399-a45d-887b83ec9fe4"
      },
      "source": [
        "%%R\n",
        "nrow(filter(df, two_year_recid == 1)) / nrow(df) * 100"
      ],
      "execution_count": 19,
      "outputs": [
        {
          "output_type": "stream",
          "text": [
            "[1] 45.51199\n"
          ],
          "name": "stdout"
        }
      ]
    },
    {
      "cell_type": "code",
      "metadata": {
        "id": "LjYznpR5mWk-"
      },
      "source": [
        ""
      ],
      "execution_count": null,
      "outputs": []
    },
    {
      "cell_type": "markdown",
      "metadata": {
        "id": "EmwuuxtJl4X8"
      },
      "source": [
        "Judges are often presented with two sets of scores from the Compas system -- one that classifies people into High, Medium and Low risk, and a corresponding decile score. There is a clear downward trend in the decile scores as those scores increase for white defendants."
      ]
    },
    {
      "cell_type": "code",
      "metadata": {
        "colab": {
          "base_uri": "https://localhost:8080/"
        },
        "id": "vlLbdDEWmXit",
        "outputId": "6e5f996a-0c57-4585-ac54-89bcdcc411d4"
      },
      "source": [
        "%%R\n",
        "install.packages(\"gridExtra\")\n",
        "library(gridExtra);"
      ],
      "execution_count": 21,
      "outputs": [
        {
          "output_type": "stream",
          "text": [
            "R[write to console]: Installing package into ‘/usr/local/lib/R/site-library’\n",
            "(as ‘lib’ is unspecified)\n",
            "\n",
            "R[write to console]: trying URL 'https://cran.rstudio.com/src/contrib/gridExtra_2.3.tar.gz'\n",
            "\n",
            "R[write to console]: Content type 'application/x-gzip'\n",
            "R[write to console]:  length 1062844 bytes (1.0 MB)\n",
            "\n",
            "R[write to console]: =\n",
            "R[write to console]: =\n",
            "R[write to console]: =\n",
            "R[write to console]: =\n",
            "R[write to console]: =\n",
            "R[write to console]: =\n",
            "R[write to console]: =\n",
            "R[write to console]: =\n",
            "R[write to console]: =\n",
            "R[write to console]: =\n",
            "R[write to console]: =\n",
            "R[write to console]: =\n",
            "R[write to console]: =\n",
            "R[write to console]: =\n",
            "R[write to console]: =\n",
            "R[write to console]: =\n",
            "R[write to console]: =\n",
            "R[write to console]: =\n",
            "R[write to console]: =\n",
            "R[write to console]: =\n",
            "R[write to console]: =\n",
            "R[write to console]: =\n",
            "R[write to console]: =\n",
            "R[write to console]: =\n",
            "R[write to console]: =\n",
            "R[write to console]: =\n",
            "R[write to console]: =\n",
            "R[write to console]: =\n",
            "R[write to console]: =\n",
            "R[write to console]: =\n",
            "R[write to console]: =\n",
            "R[write to console]: =\n",
            "R[write to console]: =\n",
            "R[write to console]: =\n",
            "R[write to console]: =\n",
            "R[write to console]: =\n",
            "R[write to console]: =\n",
            "R[write to console]: =\n",
            "R[write to console]: =\n",
            "R[write to console]: =\n",
            "R[write to console]: =\n",
            "R[write to console]: =\n",
            "R[write to console]: =\n",
            "R[write to console]: =\n",
            "R[write to console]: =\n",
            "R[write to console]: =\n",
            "R[write to console]: =\n",
            "R[write to console]: =\n",
            "R[write to console]: =\n",
            "R[write to console]: =\n",
            "R[write to console]: \n",
            "\n",
            "R[write to console]: downloaded 1.0 MB\n",
            "\n",
            "\n",
            "R[write to console]: \n",
            "\n",
            "R[write to console]: \n",
            "R[write to console]: The downloaded source packages are in\n",
            "\t‘/tmp/Rtmp1OAzxm/downloaded_packages’\n",
            "R[write to console]: \n",
            "R[write to console]: \n",
            "\n",
            "R[write to console]: \n",
            "Attaching package: ‘gridExtra’\n",
            "\n",
            "\n",
            "R[write to console]: The following object is masked from ‘package:dplyr’:\n",
            "\n",
            "    combine\n",
            "\n",
            "\n"
          ],
          "name": "stderr"
        }
      ]
    },
    {
      "cell_type": "code",
      "metadata": {
        "colab": {
          "base_uri": "https://localhost:8080/",
          "height": 380
        },
        "id": "sFCIPfd6lx-F",
        "outputId": "26339387-5e12-44da-94ba-594b3780b62b"
      },
      "source": [
        "%%R -w 900 -h 363 -u px\n",
        "library(grid)\n",
        "library(gridExtra)\n",
        "pblack <- ggplot(data=filter(df, race ==\"African-American\"), aes(ordered(decile_score))) + \n",
        "          geom_bar() + xlab(\"Decile Score\") +\n",
        "          ylim(0, 650) + ggtitle(\"Black Defendant's Decile Scores\")\n",
        "pwhite <- ggplot(data=filter(df, race ==\"Caucasian\"), aes(ordered(decile_score))) + \n",
        "          geom_bar() + xlab(\"Decile Score\") +\n",
        "          ylim(0, 650) + ggtitle(\"White Defendant's Decile Scores\")\n",
        "grid.arrange(pblack, pwhite,  ncol = 2)"
      ],
      "execution_count": 22,
      "outputs": [
        {
          "output_type": "display_data",
          "data": {
            "image/png": "[encoded data removed]"
          },
          "metadata": {
            "tags": []
          }
        }
      ]
    },
    {
      "cell_type": "code",
      "metadata": {
        "colab": {
          "base_uri": "https://localhost:8080/"
        },
        "id": "gCaXQjkmmd2V",
        "outputId": "db3aab90-3644-43de-d89e-2f2a9b8f3c88"
      },
      "source": [
        "%%R\n",
        "xtabs(~ decile_score + race, data=df)"
      ],
      "execution_count": 23,
      "outputs": [
        {
          "output_type": "stream",
          "text": [
            "            race\n",
            "decile_score African-American Asian Caucasian Hispanic Native American Other\n",
            "          1               365    15       605      159               0   142\n",
            "          2               346     4       321       89               2    60\n",
            "          3               298     5       238       73               1    32\n",
            "          4               337     0       243       47               0    39\n",
            "          5               323     1       200       39               0    19\n",
            "          6               318     2       160       27               2    20\n",
            "          7               343     1       113       28               2     9\n",
            "          8               301     2        96       14               0     7\n",
            "          9               317     0        77       17               2     7\n",
            "          10              227     1        50       16               2     8\n"
          ],
          "name": "stdout"
        }
      ]
    },
    {
      "cell_type": "markdown",
      "metadata": {
        "id": "JXTKASwxms-P"
      },
      "source": [
        "\n",
        "Racial Bias in Compas\n",
        "\n",
        "After filtering out bad rows, our first question is whether there is a significant difference in Compas scores between races. To do so we need to change some variables into factors, and run a logistic regression, comparing low scores to high scores.\n"
      ]
    },
    {
      "cell_type": "code",
      "metadata": {
        "colab": {
          "base_uri": "https://localhost:8080/"
        },
        "id": "0I6gcTTFmrJj",
        "outputId": "c75f5a52-2fb3-4e99-cf9d-28f02f93f078"
      },
      "source": [
        "%%R\n",
        "df <- mutate(df, crime_factor = factor(c_charge_degree)) %>%\n",
        "      mutate(age_factor = as.factor(age_cat)) %>%\n",
        "      within(age_factor <- relevel(age_factor, ref = 1)) %>%\n",
        "      mutate(race_factor = factor(race)) %>%\n",
        "      within(race_factor <- relevel(race_factor, ref = 3)) %>%\n",
        "      mutate(gender_factor = factor(sex, labels= c(\"Female\",\"Male\"))) %>%\n",
        "      within(gender_factor <- relevel(gender_factor, ref = 2)) %>%\n",
        "      mutate(score_factor = factor(score_text != \"Low\", labels = c(\"LowScore\",\"HighScore\")))\n",
        "model <- glm(score_factor ~ gender_factor + age_factor + race_factor +\n",
        "                            priors_count + crime_factor + two_year_recid, family=\"binomial\", data=df)\n",
        "summary(model)"
      ],
      "execution_count": 24,
      "outputs": [
        {
          "output_type": "stream",
          "text": [
            "\n",
            "Call:\n",
            "glm(formula = score_factor ~ gender_factor + age_factor + race_factor + \n",
            "    priors_count + crime_factor + two_year_recid, family = \"binomial\", \n",
            "    data = df)\n",
            "\n",
            "Deviance Residuals: \n",
            "    Min       1Q   Median       3Q      Max  \n",
            "-2.9966  -0.7919  -0.3303   0.8121   2.6024  \n",
            "\n",
            "Coefficients:\n",
            "                            Estimate Std. Error z value Pr(>|z|)    \n",
            "(Intercept)                 -1.52554    0.07851 -19.430  < 2e-16 ***\n",
            "gender_factorFemale          0.22127    0.07951   2.783 0.005388 ** \n",
            "age_factorGreater than 45   -1.35563    0.09908 -13.682  < 2e-16 ***\n",
            "age_factorLess than 25       1.30839    0.07593  17.232  < 2e-16 ***\n",
            "race_factorAfrican-American  0.47721    0.06935   6.881 5.93e-12 ***\n",
            "race_factorAsian            -0.25441    0.47821  -0.532 0.594717    \n",
            "race_factorHispanic         -0.42839    0.12813  -3.344 0.000827 ***\n",
            "race_factorNative American   1.39421    0.76612   1.820 0.068784 .  \n",
            "race_factorOther            -0.82635    0.16208  -5.098 3.43e-07 ***\n",
            "priors_count                 0.26895    0.01110  24.221  < 2e-16 ***\n",
            "crime_factorM               -0.31124    0.06655  -4.677 2.91e-06 ***\n",
            "two_year_recid               0.68586    0.06402  10.713  < 2e-16 ***\n",
            "---\n",
            "Signif. codes:  0 ‘***’ 0.001 ‘**’ 0.01 ‘*’ 0.05 ‘.’ 0.1 ‘ ’ 1\n",
            "\n",
            "(Dispersion parameter for binomial family taken to be 1)\n",
            "\n",
            "    Null deviance: 8483.3  on 6171  degrees of freedom\n",
            "Residual deviance: 6168.4  on 6160  degrees of freedom\n",
            "AIC: 6192.4\n",
            "\n",
            "Number of Fisher Scoring iterations: 5\n",
            "\n"
          ],
          "name": "stdout"
        }
      ]
    },
    {
      "cell_type": "markdown",
      "metadata": {
        "id": "DExne5oTm4sa"
      },
      "source": [
        "Black defendants are 45% more likely than white defendants to receive a higher score correcting for the seriousness of their crime, previous arrests, and future criminal behavior."
      ]
    },
    {
      "cell_type": "code",
      "metadata": {
        "colab": {
          "base_uri": "https://localhost:8080/"
        },
        "id": "falMgwYmm5NC",
        "outputId": "99d8993c-6794-4054-cb20-2d01f049acc9"
      },
      "source": [
        "%%R\n",
        "control <- exp(-1.52554) / (1 + exp(-1.52554))\n",
        "exp(0.47721) / (1 - control + (control * exp(0.47721)))\n"
      ],
      "execution_count": 25,
      "outputs": [
        {
          "output_type": "stream",
          "text": [
            "[1] 1.452841\n"
          ],
          "name": "stdout"
        }
      ]
    },
    {
      "cell_type": "markdown",
      "metadata": {
        "id": "vMGUmPhhnGl2"
      },
      "source": [
        "Women are 19.4% more likely than men to get a higher score."
      ]
    },
    {
      "cell_type": "code",
      "metadata": {
        "colab": {
          "base_uri": "https://localhost:8080/"
        },
        "id": "XlegmMoznHMC",
        "outputId": "6b38f512-0098-40c7-acd5-a3eddeb85afd"
      },
      "source": [
        "%%R\n",
        "exp(0.22127) / (1 - control + (control * exp(0.22127)))"
      ],
      "execution_count": 26,
      "outputs": [
        {
          "output_type": "stream",
          "text": [
            "[1] 1.194798\n"
          ],
          "name": "stdout"
        }
      ]
    },
    {
      "cell_type": "markdown",
      "metadata": {
        "id": "YuPmy6fdnLRB"
      },
      "source": [
        "Most surprisingly, people under 25 are 2.5 times as likely to get a higher score as middle aged defendants."
      ]
    },
    {
      "cell_type": "code",
      "metadata": {
        "colab": {
          "base_uri": "https://localhost:8080/"
        },
        "id": "e8dWICoHnL7m",
        "outputId": "734ca1c9-afa9-44f4-cb75-1f0de5555f90"
      },
      "source": [
        "%%R\n",
        "exp(1.30839) / (1 - control + (control * exp(1.30839)))"
      ],
      "execution_count": 27,
      "outputs": [
        {
          "output_type": "stream",
          "text": [
            "[1] 2.49612\n"
          ],
          "name": "stdout"
        }
      ]
    },
    {
      "cell_type": "markdown",
      "metadata": {
        "id": "bk2El09rnQFl"
      },
      "source": [
        "\n",
        "Risk of Violent Recidivism\n",
        "\n",
        "Compas also offers a score that aims to measure a persons risk of violent recidivism, which has a similar overall accuracy to the Recidivism score. As before, we can use a logistic regression to test for racial bias.\n"
      ]
    },
    {
      "cell_type": "code",
      "metadata": {
        "colab": {
          "base_uri": "https://localhost:8080/"
        },
        "id": "rcxNt_uKnX6E",
        "outputId": "bc3817d6-26b9-4aab-da08-bf0bda32c4b6"
      },
      "source": [
        "!wget https://github.com/propublica/compas-analysis/raw/master/compas-scores-two-years-violent.csv"
      ],
      "execution_count": 28,
      "outputs": [
        {
          "output_type": "stream",
          "text": [
            "--2021-07-06 02:20:17--  https://github.com/propublica/compas-analysis/raw/master/compas-scores-two-years-violent.csv\n",
            "Resolving github.com (github.com)... 140.82.114.3\n",
            "Connecting to github.com (github.com)|140.82.114.3|:443... connected.\n",
            "HTTP request sent, awaiting response... 302 Found\n",
            "Location: https://raw.githubusercontent.com/propublica/compas-analysis/master/compas-scores-two-years-violent.csv [following]\n",
            "--2021-07-06 02:20:18--  https://raw.githubusercontent.com/propublica/compas-analysis/master/compas-scores-two-years-violent.csv\n",
            "Resolving raw.githubusercontent.com (raw.githubusercontent.com)... 185.199.109.133, 185.199.110.133, 185.199.108.133, ...\n",
            "Connecting to raw.githubusercontent.com (raw.githubusercontent.com)|185.199.109.133|:443... connected.\n",
            "HTTP request sent, awaiting response... 200 OK\n",
            "Length: 1603205 (1.5M) [text/plain]\n",
            "Saving to: ‘compas-scores-two-years-violent.csv’\n",
            "\n",
            "compas-scores-two-y 100%[===================>]   1.53M  --.-KB/s    in 0.08s   \n",
            "\n",
            "2021-07-06 02:20:18 (18.9 MB/s) - ‘compas-scores-two-years-violent.csv’ saved [1603205/1603205]\n",
            "\n"
          ],
          "name": "stdout"
        }
      ]
    },
    {
      "cell_type": "code",
      "metadata": {
        "colab": {
          "base_uri": "https://localhost:8080/"
        },
        "id": "9MnQpHvFnQmq",
        "outputId": "5e355789-1da5-47bf-e011-a03cef591eae"
      },
      "source": [
        "%%R\n",
        "raw_data <- read.csv(\"./compas-scores-two-years-violent.csv\")\n",
        "nrow(raw_data)"
      ],
      "execution_count": 33,
      "outputs": [
        {
          "output_type": "stream",
          "text": [
            "[1] 4743\n"
          ],
          "name": "stdout"
        }
      ]
    },
    {
      "cell_type": "code",
      "metadata": {
        "colab": {
          "base_uri": "https://localhost:8080/"
        },
        "id": "dvezzeo8neKD",
        "outputId": "9cbeec42-7424-41f9-c3aa-d21540402f27"
      },
      "source": [
        "%%R\n",
        "df <- dplyr::select(raw_data, age, c_charge_degree, race, age_cat, v_score_text, sex, priors_count, \n",
        "                    days_b_screening_arrest, v_decile_score, is_recid, two_year_recid) %>% \n",
        "        filter(days_b_screening_arrest <= 30) %>%\n",
        "        filter(days_b_screening_arrest >= -30) %>% \n",
        "        filter(is_recid != -1) %>%\n",
        "        filter(c_charge_degree != \"O\") %>%\n",
        "        filter(v_score_text != 'N/A')\n",
        "nrow(df)"
      ],
      "execution_count": 34,
      "outputs": [
        {
          "output_type": "stream",
          "text": [
            "[1] 4020\n"
          ],
          "name": "stdout"
        }
      ]
    },
    {
      "cell_type": "code",
      "metadata": {
        "colab": {
          "base_uri": "https://localhost:8080/"
        },
        "id": "qNJfA_8gngDY",
        "outputId": "7fc8eb5f-bbe9-477c-9637-3d56c74dc05d"
      },
      "source": [
        "%%R\n",
        "summary(df$age_cat)"
      ],
      "execution_count": 35,
      "outputs": [
        {
          "output_type": "stream",
          "text": [
            "   Length     Class      Mode \n",
            "     4020 character character \n"
          ],
          "name": "stdout"
        }
      ]
    },
    {
      "cell_type": "code",
      "metadata": {
        "colab": {
          "base_uri": "https://localhost:8080/"
        },
        "id": "UavNUvY7niAa",
        "outputId": "b14edb97-8060-4df0-a82f-9bf024b12ef5"
      },
      "source": [
        "%%R\n",
        "summary(df$race)"
      ],
      "execution_count": 32,
      "outputs": [
        {
          "output_type": "stream",
          "text": [
            "   Length     Class      Mode \n",
            "     4020 character character \n"
          ],
          "name": "stdout"
        }
      ]
    },
    {
      "cell_type": "code",
      "metadata": {
        "colab": {
          "base_uri": "https://localhost:8080/"
        },
        "id": "LK4xOLNPnvqC",
        "outputId": "e1225286-f31b-4c93-f4c1-fd10adac8ed3"
      },
      "source": [
        "\n",
        "\n",
        "%%R\n",
        "summary(df$v_score_text)\n",
        "\n"
      ],
      "execution_count": 36,
      "outputs": [
        {
          "output_type": "stream",
          "text": [
            "   Length     Class      Mode \n",
            "     4020 character character \n"
          ],
          "name": "stdout"
        }
      ]
    },
    {
      "cell_type": "code",
      "metadata": {
        "colab": {
          "base_uri": "https://localhost:8080/"
        },
        "id": "OUMSrF7iny0Y",
        "outputId": "82b76055-dfba-4dad-88d3-03705c825692"
      },
      "source": [
        "%%R\n",
        "nrow(filter(df, two_year_recid == 1)) / nrow(df) * 100"
      ],
      "execution_count": 37,
      "outputs": [
        {
          "output_type": "stream",
          "text": [
            "[1] 16.21891\n"
          ],
          "name": "stdout"
        }
      ]
    },
    {
      "cell_type": "code",
      "metadata": {
        "colab": {
          "base_uri": "https://localhost:8080/"
        },
        "id": "3rjBvyl1nzpQ",
        "outputId": "17d18c29-0a40-4e23-b402-d0a7532b3a4a"
      },
      "source": [
        "%%R\n",
        "nrow(filter(df, two_year_recid == 1))"
      ],
      "execution_count": 38,
      "outputs": [
        {
          "output_type": "stream",
          "text": [
            "[1] 652\n"
          ],
          "name": "stdout"
        }
      ]
    },
    {
      "cell_type": "code",
      "metadata": {
        "colab": {
          "base_uri": "https://localhost:8080/",
          "height": 380
        },
        "id": "YinE5FVDn3b0",
        "outputId": "395f35d2-da38-4b11-f648-6b8594739070"
      },
      "source": [
        "%%R -w 900 -h 363 -u px\n",
        "library(grid)\n",
        "library(gridExtra)\n",
        "pblack <- ggplot(data=filter(df, race ==\"African-American\"), aes(ordered(v_decile_score))) + \n",
        "          geom_bar() + xlab(\"Violent Decile Score\") +\n",
        "          ylim(0, 700) + ggtitle(\"Black Defendant's Violent Decile Scores\")\n",
        "pwhite <- ggplot(data=filter(df, race ==\"Caucasian\"), aes(ordered(v_decile_score))) + \n",
        "          geom_bar() + xlab(\"Violent Decile Score\") +\n",
        "          ylim(0, 700) + ggtitle(\"White Defendant's Violent Decile Scores\")\n",
        "grid.arrange(pblack, pwhite,  ncol = 2)"
      ],
      "execution_count": 39,
      "outputs": [
        {
          "output_type": "display_data",
          "data": {
            "image/png": "[encoded data removed]"
          },
          "metadata": {
            "tags": []
          }
        }
      ]
    },
    {
      "cell_type": "code",
      "metadata": {
        "colab": {
          "base_uri": "https://localhost:8080/"
        },
        "id": "j7pD8neln6vl",
        "outputId": "77eb65a8-b611-4b56-a904-531b05a6e617"
      },
      "source": [
        "%%R\n",
        "df <- mutate(df, crime_factor = factor(c_charge_degree)) %>%\n",
        "      mutate(age_factor = as.factor(age_cat)) %>%\n",
        "      within(age_factor <- relevel(age_factor, ref = 1)) %>%\n",
        "      mutate(race_factor = factor(race,\n",
        "                                  labels = c(\"African-American\", \n",
        "                                             \"Asian\",\n",
        "                                             \"Caucasian\", \n",
        "                                             \"Hispanic\", \n",
        "                                             \"Native American\",\n",
        "                                             \"Other\"))) %>%\n",
        "      within(race_factor <- relevel(race_factor, ref = 3)) %>%\n",
        "      mutate(gender_factor = factor(sex, labels= c(\"Female\",\"Male\"))) %>%\n",
        "      within(gender_factor <- relevel(gender_factor, ref = 2)) %>%\n",
        "      mutate(score_factor = factor(v_score_text != \"Low\", labels = c(\"LowScore\",\"HighScore\")))\n",
        "model <- glm(score_factor ~ gender_factor + age_factor + race_factor +\n",
        "                            priors_count + crime_factor + two_year_recid, family=\"binomial\", data=df)\n",
        "summary(model)"
      ],
      "execution_count": 40,
      "outputs": [
        {
          "output_type": "stream",
          "text": [
            "\n",
            "Call:\n",
            "glm(formula = score_factor ~ gender_factor + age_factor + race_factor + \n",
            "    priors_count + crime_factor + two_year_recid, family = \"binomial\", \n",
            "    data = df)\n",
            "\n",
            "Deviance Residuals: \n",
            "    Min       1Q   Median       3Q      Max  \n",
            "-2.9304  -0.5667  -0.3161   0.4192   2.8386  \n",
            "\n",
            "Coefficients:\n",
            "                            Estimate Std. Error z value Pr(>|z|)    \n",
            "(Intercept)                 -2.24274    0.11326 -19.802  < 2e-16 ***\n",
            "gender_factorFemale         -0.72890    0.12666  -5.755 8.66e-09 ***\n",
            "age_factorGreater than 45   -1.74208    0.18415  -9.460  < 2e-16 ***\n",
            "age_factorLess than 25       3.14591    0.11541  27.259  < 2e-16 ***\n",
            "race_factorAfrican-American  0.65893    0.10815   6.093 1.11e-09 ***\n",
            "race_factorAsian            -0.98521    0.70537  -1.397   0.1625    \n",
            "race_factorHispanic         -0.06416    0.19133  -0.335   0.7374    \n",
            "race_factorNative American   0.44793    1.03546   0.433   0.6653    \n",
            "race_factorOther            -0.20543    0.22464  -0.914   0.3605    \n",
            "priors_count                 0.13764    0.01161  11.854  < 2e-16 ***\n",
            "crime_factorM               -0.16367    0.09807  -1.669   0.0951 .  \n",
            "two_year_recid               0.93448    0.11527   8.107 5.20e-16 ***\n",
            "---\n",
            "Signif. codes:  0 ‘***’ 0.001 ‘**’ 0.01 ‘*’ 0.05 ‘.’ 0.1 ‘ ’ 1\n",
            "\n",
            "(Dispersion parameter for binomial family taken to be 1)\n",
            "\n",
            "    Null deviance: 4731.8  on 4019  degrees of freedom\n",
            "Residual deviance: 2998.8  on 4008  degrees of freedom\n",
            "AIC: 3022.8\n",
            "\n",
            "Number of Fisher Scoring iterations: 6\n",
            "\n"
          ],
          "name": "stdout"
        }
      ]
    },
    {
      "cell_type": "markdown",
      "metadata": {
        "id": "rtyDjtthn_8n"
      },
      "source": [
        "\n",
        "\n",
        "The violent score overpredicts recidivism for black defendants by 77.3% compared to white defendants.\n"
      ]
    },
    {
      "cell_type": "code",
      "metadata": {
        "colab": {
          "base_uri": "https://localhost:8080/"
        },
        "id": "vawvhx7WoASc",
        "outputId": "4f53d434-1d38-46b0-cfa6-cb4880345026"
      },
      "source": [
        "%%R\n",
        "control <- exp(-2.24274) / (1 + exp(-2.24274))\n",
        "exp(0.65893) / (1 - control + (control * exp(0.65893)))"
      ],
      "execution_count": 41,
      "outputs": [
        {
          "output_type": "stream",
          "text": [
            "[1] 1.773921\n"
          ],
          "name": "stdout"
        }
      ]
    },
    {
      "cell_type": "markdown",
      "metadata": {
        "id": "-MpkqGBroFB4"
      },
      "source": [
        "\n",
        "\n",
        "Defendands under 25 are 7.4 times as likely to get a higher score as middle aged defendants.\n"
      ]
    },
    {
      "cell_type": "code",
      "metadata": {
        "colab": {
          "base_uri": "https://localhost:8080/"
        },
        "id": "AmSt8XbUoAah",
        "outputId": "d915dcb6-30d8-47b5-9237-fb9c4039fb49"
      },
      "source": [
        "%%R\n",
        "exp(3.14591) / (1 - control + (control * exp(3.14591)))"
      ],
      "execution_count": 46,
      "outputs": [
        {
          "output_type": "stream",
          "text": [
            "[1] 7.41424\n"
          ],
          "name": "stdout"
        }
      ]
    },
    {
      "cell_type": "markdown",
      "metadata": {
        "id": "JggdS1A7oOJB"
      },
      "source": [
        "\n",
        "Predictive Accuracy of COMPAS\n",
        "\n",
        "In order to test whether Compas scores do an accurate job of deciding whether an offender is Low, Medium or High risk, we ran a Cox Proportional Hazards model. Northpointe, the company that created COMPAS and markets it to Law Enforcement, also ran a Cox model in their validation study.\n",
        "\n",
        "We used the counting model and removed people when they were incarcerated. Due to errors in the underlying jail data, we need to filter out 32 rows that have an end date more than the start date. Considering that there are 13,334 total rows in the data, such a small amount of errors will not affect the results.\n"
      ]
    },
    {
      "cell_type": "code",
      "metadata": {
        "colab": {
          "base_uri": "https://localhost:8080/"
        },
        "id": "sSXT3s0QoXQm",
        "outputId": "07b749b7-451e-49c4-d4e1-9c0368e7b89f"
      },
      "source": [
        "!wget https://github.com/propublica/compas-analysis/raw/master/cox-parsed.csv"
      ],
      "execution_count": 43,
      "outputs": [
        {
          "output_type": "stream",
          "text": [
            "--2021-07-06 02:24:25--  https://github.com/propublica/compas-analysis/raw/master/cox-parsed.csv\n",
            "Resolving github.com (github.com)... 140.82.112.4\n",
            "Connecting to github.com (github.com)|140.82.112.4|:443... connected.\n",
            "HTTP request sent, awaiting response... 302 Found\n",
            "Location: https://raw.githubusercontent.com/propublica/compas-analysis/master/cox-parsed.csv [following]\n",
            "--2021-07-06 02:24:26--  https://raw.githubusercontent.com/propublica/compas-analysis/master/cox-parsed.csv\n",
            "Resolving raw.githubusercontent.com (raw.githubusercontent.com)... 185.199.108.133, 185.199.109.133, 185.199.110.133, ...\n",
            "Connecting to raw.githubusercontent.com (raw.githubusercontent.com)|185.199.108.133|:443... connected.\n",
            "HTTP request sent, awaiting response... 200 OK\n",
            "Length: 4594051 (4.4M) [text/plain]\n",
            "Saving to: ‘cox-parsed.csv’\n",
            "\n",
            "cox-parsed.csv      100%[===================>]   4.38M  27.5MB/s    in 0.2s    \n",
            "\n",
            "2021-07-06 02:24:26 (27.5 MB/s) - ‘cox-parsed.csv’ saved [4594051/4594051]\n",
            "\n"
          ],
          "name": "stdout"
        }
      ]
    },
    {
      "cell_type": "code",
      "metadata": {
        "colab": {
          "base_uri": "https://localhost:8080/"
        },
        "id": "rA3QxD_locaC",
        "outputId": "5b32445c-4441-4111-a74f-3ea16a9f7cf8"
      },
      "source": [
        "%%R\n",
        "install.packages(\"ggfortify\")\n",
        "library(ggfortify);"
      ],
      "execution_count": 49,
      "outputs": [
        {
          "output_type": "stream",
          "text": [
            "R[write to console]: Installing package into ‘/usr/local/lib/R/site-library’\n",
            "(as ‘lib’ is unspecified)\n",
            "\n",
            "R[write to console]: trying URL 'https://cran.rstudio.com/src/contrib/ggfortify_0.4.11.tar.gz'\n",
            "\n",
            "R[write to console]: Content type 'application/x-gzip'\n",
            "R[write to console]:  length 1952401 bytes (1.9 MB)\n",
            "\n",
            "R[write to console]: =\n",
            "R[write to console]: =\n",
            "R[write to console]: =\n",
            "R[write to console]: =\n",
            "R[write to console]: =\n",
            "R[write to console]: =\n",
            "R[write to console]: =\n",
            "R[write to console]: =\n",
            "R[write to console]: =\n",
            "R[write to console]: =\n",
            "R[write to console]: =\n",
            "R[write to console]: =\n",
            "R[write to console]: =\n",
            "R[write to console]: =\n",
            "R[write to console]: =\n",
            "R[write to console]: =\n",
            "R[write to console]: =\n",
            "R[write to console]: =\n",
            "R[write to console]: =\n",
            "R[write to console]: =\n",
            "R[write to console]: =\n",
            "R[write to console]: =\n",
            "R[write to console]: =\n",
            "R[write to console]: =\n",
            "R[write to console]: =\n",
            "R[write to console]: =\n",
            "R[write to console]: =\n",
            "R[write to console]: =\n",
            "R[write to console]: =\n",
            "R[write to console]: =\n",
            "R[write to console]: =\n",
            "R[write to console]: =\n",
            "R[write to console]: =\n",
            "R[write to console]: =\n",
            "R[write to console]: =\n",
            "R[write to console]: =\n",
            "R[write to console]: =\n",
            "R[write to console]: =\n",
            "R[write to console]: =\n",
            "R[write to console]: =\n",
            "R[write to console]: =\n",
            "R[write to console]: =\n",
            "R[write to console]: =\n",
            "R[write to console]: =\n",
            "R[write to console]: =\n",
            "R[write to console]: =\n",
            "R[write to console]: =\n",
            "R[write to console]: =\n",
            "R[write to console]: =\n",
            "R[write to console]: =\n",
            "R[write to console]: \n",
            "\n",
            "R[write to console]: downloaded 1.9 MB\n",
            "\n",
            "\n",
            "R[write to console]: \n",
            "\n",
            "R[write to console]: \n",
            "R[write to console]: The downloaded source packages are in\n",
            "\t‘/tmp/Rtmp1OAzxm/downloaded_packages’\n",
            "R[write to console]: \n",
            "R[write to console]: \n",
            "\n"
          ],
          "name": "stderr"
        }
      ]
    },
    {
      "cell_type": "code",
      "metadata": {
        "colab": {
          "base_uri": "https://localhost:8080/"
        },
        "id": "LJpwcPQZoHZi",
        "outputId": "adacb2ad-c53c-48dc-84e6-fc61a93ad2ff"
      },
      "source": [
        "%%R\n",
        "library(survival)\n",
        "library(ggfortify)\n",
        "\n",
        "data <- filter(filter(read.csv(\"./cox-parsed.csv\"), score_text != \"N/A\"), end > start) %>%\n",
        "        mutate(race_factor = factor(race,\n",
        "                                  labels = c(\"African-American\", \n",
        "                                             \"Asian\",\n",
        "                                             \"Caucasian\", \n",
        "                                             \"Hispanic\", \n",
        "                                             \"Native American\",\n",
        "                                             \"Other\"))) %>%\n",
        "        within(race_factor <- relevel(race_factor, ref = 3)) %>%\n",
        "        mutate(score_factor = factor(score_text)) %>%\n",
        "        within(score_factor <- relevel(score_factor, ref=2))\n",
        "\n",
        "grp <- data[!duplicated(data$id),]\n",
        "nrow(grp)"
      ],
      "execution_count": 50,
      "outputs": [
        {
          "output_type": "stream",
          "text": [
            "[1] 10314\n"
          ],
          "name": "stdout"
        }
      ]
    },
    {
      "cell_type": "code",
      "metadata": {
        "colab": {
          "base_uri": "https://localhost:8080/"
        },
        "id": "3mIkfXgupXr5",
        "outputId": "21ff4af6-3465-41e6-9c2d-2fe604bca928"
      },
      "source": [
        "%%R\n",
        "summary(grp$score_factor)"
      ],
      "execution_count": 51,
      "outputs": [
        {
          "output_type": "stream",
          "text": [
            "   Low   High Medium \n",
            "  5751   1952   2611 \n"
          ],
          "name": "stdout"
        }
      ]
    },
    {
      "cell_type": "code",
      "metadata": {
        "colab": {
          "base_uri": "https://localhost:8080/"
        },
        "id": "OAvV-v1YpZMk",
        "outputId": "bd355e52-dca9-4ca9-d391-6a6bd19ea9c9"
      },
      "source": [
        "%%R\n",
        "summary(grp$race_factor)"
      ],
      "execution_count": 52,
      "outputs": [
        {
          "output_type": "stream",
          "text": [
            "       Caucasian African-American            Asian         Hispanic \n",
            "            3569             5147               51              944 \n",
            " Native American            Other \n",
            "              32              571 \n"
          ],
          "name": "stdout"
        }
      ]
    },
    {
      "cell_type": "code",
      "metadata": {
        "colab": {
          "base_uri": "https://localhost:8080/"
        },
        "id": "wfPvcoqzpZ33",
        "outputId": "a060a1dc-d20f-426a-c159-07c4e6ba7e98"
      },
      "source": [
        "\n",
        "\n",
        "%%R\n",
        "f <- Surv(start, end, event, type=\"counting\") ~ score_factor\n",
        "model <- coxph(f, data=data)\n",
        "summary(model)\n",
        "\n"
      ],
      "execution_count": 53,
      "outputs": [
        {
          "output_type": "stream",
          "text": [
            "Call:\n",
            "coxph(formula = f, data = data)\n",
            "\n",
            "  n= 13344, number of events= 3469 \n",
            "\n",
            "                      coef exp(coef) se(coef)     z Pr(>|z|)    \n",
            "score_factorHigh   1.24969   3.48927  0.04146 30.14   <2e-16 ***\n",
            "score_factorMedium 0.79627   2.21725  0.04077 19.53   <2e-16 ***\n",
            "---\n",
            "Signif. codes:  0 ‘***’ 0.001 ‘**’ 0.01 ‘*’ 0.05 ‘.’ 0.1 ‘ ’ 1\n",
            "\n",
            "                   exp(coef) exp(-coef) lower .95 upper .95\n",
            "score_factorHigh       3.489     0.2866     3.217     3.785\n",
            "score_factorMedium     2.217     0.4510     2.047     2.402\n",
            "\n",
            "Concordance= 0.636  (se = 0.005 )\n",
            "Likelihood ratio test= 942.8  on 2 df,   p=<2e-16\n",
            "Wald test            = 954.8  on 2 df,   p=<2e-16\n",
            "Score (logrank) test = 1055  on 2 df,   p=<2e-16\n",
            "\n"
          ],
          "name": "stdout"
        }
      ]
    },
    {
      "cell_type": "markdown",
      "metadata": {
        "id": "YZ4hEWw4pgpf"
      },
      "source": [
        "People placed in the High category are 3.5 times as likely to recidivate, and the COMPAS system's concordance 63.6%. This is lower than the accuracy quoted in the Northpoint study of 68%."
      ]
    },
    {
      "cell_type": "code",
      "metadata": {
        "colab": {
          "base_uri": "https://localhost:8080/"
        },
        "id": "bsMQ5pxkphFp",
        "outputId": "acdd8b57-098f-4be6-dda2-593373ac5dca"
      },
      "source": [
        "%%R\n",
        "decile_f <- Surv(start, end, event, type=\"counting\") ~ decile_score\n",
        "dmodel <- coxph(decile_f, data=data)\n",
        "summary(dmodel)"
      ],
      "execution_count": 54,
      "outputs": [
        {
          "output_type": "stream",
          "text": [
            "Call:\n",
            "coxph(formula = decile_f, data = data)\n",
            "\n",
            "  n= 13344, number of events= 3469 \n",
            "\n",
            "                 coef exp(coef) se(coef)     z Pr(>|z|)    \n",
            "decile_score 0.194931  1.215228 0.005801 33.61   <2e-16 ***\n",
            "---\n",
            "Signif. codes:  0 ‘***’ 0.001 ‘**’ 0.01 ‘*’ 0.05 ‘.’ 0.1 ‘ ’ 1\n",
            "\n",
            "             exp(coef) exp(-coef) lower .95 upper .95\n",
            "decile_score     1.215     0.8229     1.201     1.229\n",
            "\n",
            "Concordance= 0.664  (se = 0.005 )\n",
            "Likelihood ratio test= 1112  on 1 df,   p=<2e-16\n",
            "Wald test            = 1129  on 1 df,   p=<2e-16\n",
            "Score (logrank) test = 1208  on 1 df,   p=<2e-16\n",
            "\n"
          ],
          "name": "stdout"
        }
      ]
    },
    {
      "cell_type": "markdown",
      "metadata": {
        "id": "41ChRv_lpm_I"
      },
      "source": [
        "\n",
        "\n",
        "COMPAS's decile scores are a bit more accurate at 66%.\n",
        "\n",
        "We can test if the algorithm is behaving differently across races by including a race interaction term in the cox model.\n"
      ]
    },
    {
      "cell_type": "code",
      "metadata": {
        "colab": {
          "base_uri": "https://localhost:8080/"
        },
        "id": "UyqrnpxcpbjW",
        "outputId": "f0d3f2ea-f6ac-44c8-87b1-7262298f3835"
      },
      "source": [
        "%%R\n",
        "f2 <- Surv(start, end, event, type=\"counting\") ~ race_factor + score_factor + race_factor * score_factor\n",
        "model <- coxph(f2, data=data)\n",
        "print(summary(model))"
      ],
      "execution_count": 55,
      "outputs": [
        {
          "output_type": "stream",
          "text": [
            "Call:\n",
            "coxph(formula = f2, data = data)\n",
            "\n",
            "  n= 13344, number of events= 3469 \n",
            "\n",
            "                                                   coef exp(coef) se(coef)\n",
            "race_factorAfrican-American                     0.27879   1.32154  0.06080\n",
            "race_factorAsian                               -0.77694   0.45981  0.50200\n",
            "race_factorHispanic                            -0.06352   0.93846  0.09673\n",
            "race_factorNative American                     -1.25468   0.28517  1.00100\n",
            "race_factorOther                                0.01419   1.01429  0.11049\n",
            "score_factorHigh                                1.28350   3.60927  0.08357\n",
            "score_factorMedium                              0.84286   2.32301  0.07142\n",
            "race_factorAfrican-American:score_factorHigh   -0.18976   0.82716  0.09985\n",
            "race_factorAsian:score_factorHigh               1.31556   3.72684  0.76835\n",
            "race_factorHispanic:score_factorHigh           -0.11913   0.88769  0.19833\n",
            "race_factorNative American:score_factorHigh     1.95571   7.06896  1.08336\n",
            "race_factorOther:score_factorHigh               0.41455   1.51369  0.25921\n",
            "race_factorAfrican-American:score_factorMedium -0.17261   0.84147  0.09097\n",
            "race_factorAsian:score_factorMedium             0.98619   2.68101  0.71072\n",
            "race_factorHispanic:score_factorMedium          0.06529   1.06747  0.16415\n",
            "race_factorNative American:score_factorMedium   1.38965   4.01345  1.12032\n",
            "race_factorOther:score_factorMedium            -0.33393   0.71610  0.23188\n",
            "                                                    z Pr(>|z|)    \n",
            "race_factorAfrican-American                     4.586 4.52e-06 ***\n",
            "race_factorAsian                               -1.548   0.1217    \n",
            "race_factorHispanic                            -0.657   0.5114    \n",
            "race_factorNative American                     -1.253   0.2101    \n",
            "race_factorOther                                0.128   0.8978    \n",
            "score_factorHigh                               15.358  < 2e-16 ***\n",
            "score_factorMedium                             11.801  < 2e-16 ***\n",
            "race_factorAfrican-American:score_factorHigh   -1.900   0.0574 .  \n",
            "race_factorAsian:score_factorHigh               1.712   0.0869 .  \n",
            "race_factorHispanic:score_factorHigh           -0.601   0.5480    \n",
            "race_factorNative American:score_factorHigh     1.805   0.0710 .  \n",
            "race_factorOther:score_factorHigh               1.599   0.1098    \n",
            "race_factorAfrican-American:score_factorMedium -1.897   0.0578 .  \n",
            "race_factorAsian:score_factorMedium             1.388   0.1653    \n",
            "race_factorHispanic:score_factorMedium          0.398   0.6908    \n",
            "race_factorNative American:score_factorMedium   1.240   0.2148    \n",
            "race_factorOther:score_factorMedium            -1.440   0.1498    \n",
            "---\n",
            "Signif. codes:  0 ‘***’ 0.001 ‘**’ 0.01 ‘*’ 0.05 ‘.’ 0.1 ‘ ’ 1\n",
            "\n",
            "                                               exp(coef) exp(-coef) lower .95\n",
            "race_factorAfrican-American                       1.3215     0.7567   1.17308\n",
            "race_factorAsian                                  0.4598     2.1748   0.17190\n",
            "race_factorHispanic                               0.9385     1.0656   0.77638\n",
            "race_factorNative American                        0.2852     3.5067   0.04009\n",
            "race_factorOther                                  1.0143     0.9859   0.81680\n",
            "score_factorHigh                                  3.6093     0.2771   3.06395\n",
            "score_factorMedium                                2.3230     0.4305   2.01956\n",
            "race_factorAfrican-American:score_factorHigh      0.8272     1.2090   0.68014\n",
            "race_factorAsian:score_factorHigh                 3.7268     0.2683   0.82664\n",
            "race_factorHispanic:score_factorHigh              0.8877     1.1265   0.60179\n",
            "race_factorNative American:score_factorHigh       7.0690     0.1415   0.84566\n",
            "race_factorOther:score_factorHigh                 1.5137     0.6606   0.91075\n",
            "race_factorAfrican-American:score_factorMedium    0.8415     1.1884   0.70405\n",
            "race_factorAsian:score_factorMedium               2.6810     0.3730   0.66579\n",
            "race_factorHispanic:score_factorMedium            1.0675     0.9368   0.77380\n",
            "race_factorNative American:score_factorMedium     4.0135     0.2492   0.44658\n",
            "race_factorOther:score_factorMedium               0.7161     1.3964   0.45457\n",
            "                                               upper .95\n",
            "race_factorAfrican-American                        1.489\n",
            "race_factorAsian                                   1.230\n",
            "race_factorHispanic                                1.134\n",
            "race_factorNative American                         2.028\n",
            "race_factorOther                                   1.260\n",
            "score_factorHigh                                   4.252\n",
            "score_factorMedium                                 2.672\n",
            "race_factorAfrican-American:score_factorHigh       1.006\n",
            "race_factorAsian:score_factorHigh                 16.802\n",
            "race_factorHispanic:score_factorHigh               1.309\n",
            "race_factorNative American:score_factorHigh       59.090\n",
            "race_factorOther:score_factorHigh                  2.516\n",
            "race_factorAfrican-American:score_factorMedium     1.006\n",
            "race_factorAsian:score_factorMedium               10.796\n",
            "race_factorHispanic:score_factorMedium             1.473\n",
            "race_factorNative American:score_factorMedium     36.069\n",
            "race_factorOther:score_factorMedium                1.128\n",
            "\n",
            "Concordance= 0.646  (se = 0.005 )\n",
            "Likelihood ratio test= 993.7  on 17 df,   p=<2e-16\n",
            "Wald test            = 988.8  on 17 df,   p=<2e-16\n",
            "Score (logrank) test = 1105  on 17 df,   p=<2e-16\n",
            "\n"
          ],
          "name": "stdout"
        }
      ]
    },
    {
      "cell_type": "markdown",
      "metadata": {
        "id": "17fTo6vJpvwX"
      },
      "source": [
        "\n",
        "\n",
        "The interaction term shows a similar disparity as the logistic regression above.\n",
        "\n",
        "High risk white defendants are 3.61 more likely than low risk white defendants, while High risk black defendants are 2.99 more likely than low.\n"
      ]
    },
    {
      "cell_type": "code",
      "metadata": {
        "colab": {
          "base_uri": "https://localhost:8080/"
        },
        "id": "KoswGgFwpwQM",
        "outputId": "77e56d0f-a985-43d2-d1e7-df8140a8fe20"
      },
      "source": [
        "import math\n",
        "print(\"Black High Hazard: %.2f\" % (math.exp(-0.18976 + 1.28350)))\n",
        "print(\"White High Hazard: %.2f\" % (math.exp(1.28350)))\n",
        "print(\"Black Medium Hazard: %.2f\" % (math.exp(0.84286-0.17261)))\n",
        "print(\"White Medium Hazard: %.2f\" % (math.exp(0.84286)))"
      ],
      "execution_count": 56,
      "outputs": [
        {
          "output_type": "stream",
          "text": [
            "Black High Hazard: 2.99\n",
            "White High Hazard: 3.61\n",
            "Black Medium Hazard: 1.95\n",
            "White Medium Hazard: 2.32\n"
          ],
          "name": "stdout"
        }
      ]
    },
    {
      "cell_type": "code",
      "metadata": {
        "colab": {
          "base_uri": "https://localhost:8080/",
          "height": 636
        },
        "id": "4As_zkJbpyIN",
        "outputId": "2d62ae16-20cd-47b7-9305-5637c0790697"
      },
      "source": [
        "%%R -w 900 -h 563 -u px\n",
        "\n",
        "fit <- survfit(f, data=data)\n",
        "\n",
        "plotty <- function(fit, title) {\n",
        "  return(autoplot(fit, conf.int=T, censor=F) + ggtitle(title) + ylim(0,1))\n",
        "}\n",
        "plotty(fit, \"Overall\")"
      ],
      "execution_count": 57,
      "outputs": [
        {
          "output_type": "stream",
          "text": [
            "R[write to console]: Scale for 'y' is already present. Adding another scale for 'y', which will\n",
            "replace the existing scale.\n",
            "\n"
          ],
          "name": "stderr"
        },
        {
          "output_type": "display_data",
          "data": {
            "image/png": "[encoded data removed]"
          },
          "metadata": {
            "tags": []
          }
        }
      ]
    },
    {
      "cell_type": "markdown",
      "metadata": {
        "id": "J1tz98Mqp2U1"
      },
      "source": [
        "Black defendants do recidivate at higher rates according to race specific Kaplan Meier plots."
      ]
    },
    {
      "cell_type": "code",
      "metadata": {
        "colab": {
          "base_uri": "https://localhost:8080/",
          "height": 492
        },
        "id": "ne7IhQH6p2l6",
        "outputId": "57b1c41b-f142-4537-e49f-42537b79bd27"
      },
      "source": [
        "%%R -w 900 -h 363 -u px\n",
        "white <- filter(data, race == \"Caucasian\")\n",
        "white_fit <- survfit(f, data=white)\n",
        "\n",
        "black <- filter(data, race == \"African-American\")\n",
        "black_fit <- survfit(f, data=black)\n",
        "\n",
        "grid.arrange(plotty(white_fit, \"White defendants\"), \n",
        "             plotty(black_fit, \"Black defendants\"), ncol=2)\n"
      ],
      "execution_count": 58,
      "outputs": [
        {
          "output_type": "stream",
          "text": [
            "R[write to console]: Scale for 'y' is already present. Adding another scale for 'y', which will\n",
            "replace the existing scale.\n",
            "\n",
            "R[write to console]: Scale for 'y' is already present. Adding another scale for 'y', which will\n",
            "replace the existing scale.\n",
            "\n"
          ],
          "name": "stderr"
        },
        {
          "output_type": "display_data",
          "data": {
            "image/png": "[encoded data removed]"
          },
          "metadata": {
            "tags": []
          }
        }
      ]
    },
    {
      "cell_type": "code",
      "metadata": {
        "colab": {
          "base_uri": "https://localhost:8080/"
        },
        "id": "D5TbVFJGp9d4",
        "outputId": "08ea20eb-8599-4c1a-c837-efaf6ed727ac"
      },
      "source": [
        "%%R\n",
        "summary(fit, times=c(730))"
      ],
      "execution_count": 59,
      "outputs": [
        {
          "output_type": "stream",
          "text": [
            "Call: survfit(formula = f, data = data)\n",
            "\n",
            "                score_factor=Low \n",
            "        time       n.risk      n.event     survival      std.err lower 95% CI \n",
            "    7.30e+02     2.75e+03     1.21e+03     7.76e-01     5.74e-03     7.64e-01 \n",
            "upper 95% CI \n",
            "    7.87e-01 \n",
            "\n",
            "                score_factor=High \n",
            "        time       n.risk      n.event     survival      std.err lower 95% CI \n",
            "    730.0000     505.0000     972.0000       0.4081       0.0122       0.3850 \n",
            "upper 95% CI \n",
            "      0.4327 \n",
            "\n",
            "                score_factor=Medium \n",
            "        time       n.risk      n.event     survival      std.err lower 95% CI \n",
            "    7.30e+02     9.79e+02     1.02e+03     5.63e-01     1.03e-02     5.43e-01 \n",
            "upper 95% CI \n",
            "    5.84e-01 \n",
            "\n"
          ],
          "name": "stdout"
        }
      ]
    },
    {
      "cell_type": "code",
      "metadata": {
        "colab": {
          "base_uri": "https://localhost:8080/"
        },
        "id": "VLvmjc0jp_Kc",
        "outputId": "7c738962-08c2-4132-fcbb-d592fc0a7f77"
      },
      "source": [
        "%%R\n",
        "summary(black_fit, times=c(730))"
      ],
      "execution_count": 60,
      "outputs": [
        {
          "output_type": "stream",
          "text": [
            "Call: survfit(formula = f, data = black)\n",
            "\n",
            "                score_factor=Low \n",
            "        time       n.risk      n.event     survival      std.err lower 95% CI \n",
            "    7.30e+02     1.02e+03     5.29e+02     7.43e-01     9.70e-03     7.24e-01 \n",
            "upper 95% CI \n",
            "    7.62e-01 \n",
            "\n",
            "                score_factor=High \n",
            "        time       n.risk      n.event     survival      std.err lower 95% CI \n",
            "    730.0000     362.0000     719.0000       0.3976       0.0142       0.3707 \n",
            "upper 95% CI \n",
            "      0.4265 \n",
            "\n",
            "                score_factor=Medium \n",
            "        time       n.risk      n.event     survival      std.err lower 95% CI \n",
            "    730.0000     578.0000     623.0000       0.5485       0.0134       0.5227 \n",
            "upper 95% CI \n",
            "      0.5755 \n",
            "\n"
          ],
          "name": "stdout"
        }
      ]
    },
    {
      "cell_type": "code",
      "metadata": {
        "colab": {
          "base_uri": "https://localhost:8080/"
        },
        "id": "ZUi2-WwiqBMs",
        "outputId": "763a6fb5-4bbf-492d-eef3-4733db350f79"
      },
      "source": [
        "%%R\n",
        "summary(white_fit, times=c(730))"
      ],
      "execution_count": 61,
      "outputs": [
        {
          "output_type": "stream",
          "text": [
            "Call: survfit(formula = f, data = white)\n",
            "\n",
            "                score_factor=Low \n",
            "        time       n.risk      n.event     survival      std.err lower 95% CI \n",
            "    7.30e+02     1.16e+03     4.57e+02     7.95e-01     8.63e-03     7.78e-01 \n",
            "upper 95% CI \n",
            "    8.12e-01 \n",
            "\n",
            "                score_factor=High \n",
            "        time       n.risk      n.event     survival      std.err lower 95% CI \n",
            "    730.0000     102.0000     191.0000       0.4347       0.0272       0.3846 \n",
            "upper 95% CI \n",
            "      0.4914 \n",
            "\n",
            "                score_factor=Medium \n",
            "        time       n.risk      n.event     survival      std.err lower 95% CI \n",
            "    730.0000     299.0000     306.0000       0.5757       0.0185       0.5405 \n",
            "upper 95% CI \n",
            "      0.6132 \n",
            "\n"
          ],
          "name": "stdout"
        }
      ]
    },
    {
      "cell_type": "markdown",
      "metadata": {
        "id": "C2fWSDmTqEHc"
      },
      "source": [
        "Race specific models have similar concordance values."
      ]
    },
    {
      "cell_type": "code",
      "metadata": {
        "colab": {
          "base_uri": "https://localhost:8080/"
        },
        "id": "Tdg0OTCWqEmE",
        "outputId": "0bf7eeeb-d16c-4142-a2eb-57caea861c93"
      },
      "source": [
        "%%R\n",
        "summary(coxph(f, data=white))"
      ],
      "execution_count": 62,
      "outputs": [
        {
          "output_type": "stream",
          "text": [
            "Call:\n",
            "coxph(formula = f, data = white)\n",
            "\n",
            "  n= 4564, number of events= 1023 \n",
            "\n",
            "                      coef exp(coef) se(coef)     z Pr(>|z|)    \n",
            "score_factorHigh   1.27628   3.58327  0.08365 15.26   <2e-16 ***\n",
            "score_factorMedium 0.83965   2.31556  0.07144 11.75   <2e-16 ***\n",
            "---\n",
            "Signif. codes:  0 ‘***’ 0.001 ‘**’ 0.01 ‘*’ 0.05 ‘.’ 0.1 ‘ ’ 1\n",
            "\n",
            "                   exp(coef) exp(-coef) lower .95 upper .95\n",
            "score_factorHigh       3.583     0.2791     3.041     4.222\n",
            "score_factorMedium     2.316     0.4319     2.013     2.664\n",
            "\n",
            "Concordance= 0.625  (se = 0.008 )\n",
            "Likelihood ratio test= 262.8  on 2 df,   p=<2e-16\n",
            "Wald test            = 282.2  on 2 df,   p=<2e-16\n",
            "Score (logrank) test = 311.7  on 2 df,   p=<2e-16\n",
            "\n"
          ],
          "name": "stdout"
        }
      ]
    },
    {
      "cell_type": "code",
      "metadata": {
        "colab": {
          "base_uri": "https://localhost:8080/"
        },
        "id": "v7PFzXMGqIR9",
        "outputId": "5b7bdf93-8477-4f41-a7f6-ac0a718389c4"
      },
      "source": [
        "%%R\n",
        "summary(coxph(f, data=black))"
      ],
      "execution_count": 63,
      "outputs": [
        {
          "output_type": "stream",
          "text": [
            "Call:\n",
            "coxph(formula = f, data = black)\n",
            "\n",
            "  n= 6862, number of events= 2035 \n",
            "\n",
            "                      coef exp(coef) se(coef)     z Pr(>|z|)    \n",
            "score_factorHigh   1.09514   2.98959  0.05475 20.00   <2e-16 ***\n",
            "score_factorMedium 0.67025   1.95473  0.05636 11.89   <2e-16 ***\n",
            "---\n",
            "Signif. codes:  0 ‘***’ 0.001 ‘**’ 0.01 ‘*’ 0.05 ‘.’ 0.1 ‘ ’ 1\n",
            "\n",
            "                   exp(coef) exp(-coef) lower .95 upper .95\n",
            "score_factorHigh       2.990     0.3345     2.685     3.328\n",
            "score_factorMedium     1.955     0.5116     1.750     2.183\n",
            "\n",
            "Concordance= 0.623  (se = 0.006 )\n",
            "Likelihood ratio test= 416.9  on 2 df,   p=<2e-16\n",
            "Wald test            = 401.3  on 2 df,   p=<2e-16\n",
            "Score (logrank) test = 432.9  on 2 df,   p=<2e-16\n",
            "\n"
          ],
          "name": "stdout"
        }
      ]
    },
    {
      "cell_type": "markdown",
      "metadata": {
        "id": "M7npuGBjqJ4y"
      },
      "source": [
        "Compas's violent recidivism score has a slightly higher overall concordance score of 65.1%."
      ]
    },
    {
      "cell_type": "markdown",
      "metadata": {
        "id": "-jTjTaqvqUpi"
      },
      "source": [
        ""
      ]
    },
    {
      "cell_type": "code",
      "metadata": {
        "colab": {
          "base_uri": "https://localhost:8080/"
        },
        "id": "xMlh6E76qU7Z",
        "outputId": "6ace0514-1598-421e-cd0d-177bc061df29"
      },
      "source": [
        "!wget https://github.com/propublica/compas-analysis/raw/master/cox-violent-parsed.csv"
      ],
      "execution_count": 65,
      "outputs": [
        {
          "output_type": "stream",
          "text": [
            "--2021-07-06 02:33:03--  https://github.com/propublica/compas-analysis/raw/master/cox-violent-parsed.csv\n",
            "Resolving github.com (github.com)... 140.82.112.4\n",
            "Connecting to github.com (github.com)|140.82.112.4|:443... connected.\n",
            "HTTP request sent, awaiting response... 302 Found\n",
            "Location: https://raw.githubusercontent.com/propublica/compas-analysis/master/cox-violent-parsed.csv [following]\n",
            "--2021-07-06 02:33:03--  https://raw.githubusercontent.com/propublica/compas-analysis/master/cox-violent-parsed.csv\n",
            "Resolving raw.githubusercontent.com (raw.githubusercontent.com)... 185.199.109.133, 185.199.110.133, 185.199.108.133, ...\n",
            "Connecting to raw.githubusercontent.com (raw.githubusercontent.com)|185.199.109.133|:443... connected.\n",
            "HTTP request sent, awaiting response... 200 OK\n",
            "Length: 6395354 (6.1M) [text/plain]\n",
            "Saving to: ‘cox-violent-parsed.csv’\n",
            "\n",
            "cox-violent-parsed. 100%[===================>]   6.10M  30.5MB/s    in 0.2s    \n",
            "\n",
            "2021-07-06 02:33:04 (30.5 MB/s) - ‘cox-violent-parsed.csv’ saved [6395354/6395354]\n",
            "\n"
          ],
          "name": "stdout"
        }
      ]
    },
    {
      "cell_type": "code",
      "metadata": {
        "colab": {
          "base_uri": "https://localhost:8080/"
        },
        "id": "GUkFQ5x-qMeB",
        "outputId": "93156f46-30cd-4916-dca6-a99451c393fd"
      },
      "source": [
        "%%R\n",
        "violent_data <- filter(filter(read.csv(\"./cox-violent-parsed.csv\"), score_text != \"N/A\"), end > start) %>%\n",
        "        mutate(race_factor = factor(race,\n",
        "                                  labels = c(\"African-American\", \n",
        "                                             \"Asian\",\n",
        "                                             \"Caucasian\", \n",
        "                                             \"Hispanic\", \n",
        "                                             \"Native American\",\n",
        "                                             \"Other\"))) %>%\n",
        "        within(race_factor <- relevel(race_factor, ref = 3)) %>%\n",
        "        mutate(score_factor = factor(score_text)) %>%\n",
        "        within(score_factor <- relevel(score_factor, ref=2))\n",
        "\n",
        "\n",
        "vf <- Surv(start, end, event, type=\"counting\") ~ score_factor\n",
        "vmodel <- coxph(vf, data=violent_data)\n",
        "vgrp <- violent_data[!duplicated(violent_data$id),]\n",
        "print(nrow(vgrp))\n",
        "summary(vmodel)"
      ],
      "execution_count": 66,
      "outputs": [
        {
          "output_type": "stream",
          "text": [
            "[1] 10985\n",
            "Call:\n",
            "coxph(formula = vf, data = violent_data)\n",
            "\n",
            "  n= 18178, number of events= 818 \n",
            "\n",
            "                      coef exp(coef) se(coef)      z Pr(>|z|)    \n",
            "score_factorHigh   1.38311   3.98729  0.08410 16.447   <2e-16 ***\n",
            "score_factorMedium 0.80350   2.23334  0.08699  9.236   <2e-16 ***\n",
            "---\n",
            "Signif. codes:  0 ‘***’ 0.001 ‘**’ 0.01 ‘*’ 0.05 ‘.’ 0.1 ‘ ’ 1\n",
            "\n",
            "                   exp(coef) exp(-coef) lower .95 upper .95\n",
            "score_factorHigh       3.987     0.2508     3.381     4.702\n",
            "score_factorMedium     2.233     0.4478     1.883     2.649\n",
            "\n",
            "Concordance= 0.651  (se = 0.009 )\n",
            "Likelihood ratio test= 270.6  on 2 df,   p=<2e-16\n",
            "Wald test            = 272.2  on 2 df,   p=<2e-16\n",
            "Score (logrank) test = 307.9  on 2 df,   p=<2e-16\n",
            "\n"
          ],
          "name": "stdout"
        }
      ]
    },
    {
      "cell_type": "markdown",
      "metadata": {
        "id": "KHf7g85SqZ49"
      },
      "source": [
        "In this case, there isn't a significant coefficient on African American's with High Scores."
      ]
    },
    {
      "cell_type": "code",
      "metadata": {
        "colab": {
          "base_uri": "https://localhost:8080/"
        },
        "id": "O7k3i1yFqac7",
        "outputId": "64bd372c-3c77-4217-92b0-7cbb9daaecf1"
      },
      "source": [
        "%%R\n",
        "vf2 <- Surv(start, end, event, type=\"counting\") ~ race_factor + race_factor * score_factor\n",
        "vmodel <- coxph(vf2, data=violent_data)\n",
        "summary(vmodel)"
      ],
      "execution_count": 67,
      "outputs": [
        {
          "output_type": "stream",
          "text": [
            "Call:\n",
            "coxph(formula = vf2, data = violent_data)\n",
            "\n",
            "  n= 18178, number of events= 818 \n",
            "\n",
            "                                                     coef  exp(coef)   se(coef)\n",
            "race_factorAfrican-American                     1.976e-01  1.219e+00  1.321e-01\n",
            "race_factorAsian                               -5.838e-01  5.577e-01  1.005e+00\n",
            "race_factorHispanic                            -1.754e-01  8.391e-01  2.150e-01\n",
            "race_factorNative American                     -1.304e+01  2.162e-06  7.607e+02\n",
            "race_factorOther                               -4.459e-02  9.564e-01  2.433e-01\n",
            "score_factorHigh                                1.250e+00  3.491e+00  1.720e-01\n",
            "score_factorMedium                              6.292e-01  1.876e+00  1.583e-01\n",
            "race_factorAfrican-American:score_factorHigh   -7.627e-03  9.924e-01  2.063e-01\n",
            "race_factorAsian:score_factorHigh               1.552e+00  4.721e+00  1.425e+00\n",
            "race_factorHispanic:score_factorHigh            1.606e-01  1.174e+00  3.969e-01\n",
            "race_factorNative American:score_factorHigh     1.465e+01  2.307e+06  7.607e+02\n",
            "race_factorOther:score_factorHigh               1.440e+00  4.220e+00  4.037e-01\n",
            "race_factorAfrican-American:score_factorMedium  1.297e-01  1.139e+00  1.987e-01\n",
            "race_factorAsian:score_factorMedium             1.651e+00  5.211e+00  1.235e+00\n",
            "race_factorHispanic:score_factorMedium          4.632e-01  1.589e+00  3.430e-01\n",
            "race_factorNative American:score_factorMedium   1.343e+01  6.782e+05  7.607e+02\n",
            "race_factorOther:score_factorMedium            -1.562e-02  9.845e-01  4.916e-01\n",
            "                                                    z Pr(>|z|)    \n",
            "race_factorAfrican-American                     1.497 0.134487    \n",
            "race_factorAsian                               -0.581 0.561115    \n",
            "race_factorHispanic                            -0.816 0.414623    \n",
            "race_factorNative American                     -0.017 0.986318    \n",
            "race_factorOther                               -0.183 0.854546    \n",
            "score_factorHigh                                7.268 3.64e-13 ***\n",
            "score_factorMedium                              3.976 7.02e-05 ***\n",
            "race_factorAfrican-American:score_factorHigh   -0.037 0.970513    \n",
            "race_factorAsian:score_factorHigh               1.089 0.275997    \n",
            "race_factorHispanic:score_factorHigh            0.405 0.685751    \n",
            "race_factorNative American:score_factorHigh     0.019 0.984633    \n",
            "race_factorOther:score_factorHigh               3.567 0.000361 ***\n",
            "race_factorAfrican-American:score_factorMedium  0.653 0.513889    \n",
            "race_factorAsian:score_factorMedium             1.337 0.181322    \n",
            "race_factorHispanic:score_factorMedium          1.350 0.176860    \n",
            "race_factorNative American:score_factorMedium   0.018 0.985917    \n",
            "race_factorOther:score_factorMedium            -0.032 0.974652    \n",
            "---\n",
            "Signif. codes:  0 ‘***’ 0.001 ‘**’ 0.01 ‘*’ 0.05 ‘.’ 0.1 ‘ ’ 1\n",
            "\n",
            "                                               exp(coef) exp(-coef) lower .95\n",
            "race_factorAfrican-American                    1.219e+00  8.207e-01   0.94065\n",
            "race_factorAsian                               5.577e-01  1.793e+00   0.07786\n",
            "race_factorHispanic                            8.391e-01  1.192e+00   0.55062\n",
            "race_factorNative American                     2.162e-06  4.625e+05   0.00000\n",
            "race_factorOther                               9.564e-01  1.046e+00   0.59370\n",
            "score_factorHigh                               3.491e+00  2.865e-01   2.49195\n",
            "score_factorMedium                             1.876e+00  5.330e-01   1.37575\n",
            "race_factorAfrican-American:score_factorHigh   9.924e-01  1.008e+00   0.66232\n",
            "race_factorAsian:score_factorHigh              4.721e+00  2.118e-01   0.28928\n",
            "race_factorHispanic:score_factorHigh           1.174e+00  8.516e-01   0.53939\n",
            "race_factorNative American:score_factorHigh    2.307e+06  4.334e-07   0.00000\n",
            "race_factorOther:score_factorHigh              4.220e+00  2.369e-01   1.91314\n",
            "race_factorAfrican-American:score_factorMedium 1.139e+00  8.783e-01   0.77125\n",
            "race_factorAsian:score_factorMedium            5.211e+00  1.919e-01   0.46315\n",
            "race_factorHispanic:score_factorMedium         1.589e+00  6.293e-01   0.81136\n",
            "race_factorNative American:score_factorMedium  6.782e+05  1.474e-06   0.00000\n",
            "race_factorOther:score_factorMedium            9.845e-01  1.016e+00   0.37560\n",
            "                                               upper .95\n",
            "race_factorAfrican-American                        1.578\n",
            "race_factorAsian                                   3.995\n",
            "race_factorHispanic                                1.279\n",
            "race_factorNative American                           Inf\n",
            "race_factorOther                                   1.541\n",
            "score_factorHigh                                   4.891\n",
            "score_factorMedium                                 2.558\n",
            "race_factorAfrican-American:score_factorHigh       1.487\n",
            "race_factorAsian:score_factorHigh                 77.045\n",
            "race_factorHispanic:score_factorHigh               2.556\n",
            "race_factorNative American:score_factorHigh          Inf\n",
            "race_factorOther:score_factorHigh                  9.310\n",
            "race_factorAfrican-American:score_factorMedium     1.681\n",
            "race_factorAsian:score_factorMedium               58.627\n",
            "race_factorHispanic:score_factorMedium             3.113\n",
            "race_factorNative American:score_factorMedium        Inf\n",
            "race_factorOther:score_factorMedium                2.581\n",
            "\n",
            "Concordance= 0.663  (se = 0.01 )\n",
            "Likelihood ratio test= 303  on 17 df,   p=<2e-16\n",
            "Wald test            = 317.9  on 17 df,   p=<2e-16\n",
            "Score (logrank) test = 387.1  on 17 df,   p=<2e-16\n",
            "\n"
          ],
          "name": "stdout"
        }
      ]
    },
    {
      "cell_type": "code",
      "metadata": {
        "colab": {
          "base_uri": "https://localhost:8080/"
        },
        "id": "cx7Bj486qi6N",
        "outputId": "0d4189b9-6cb2-49f6-a5cc-88c1ff112371"
      },
      "source": [
        "%%R\n",
        "summary(coxph(vf, data=filter(violent_data, race == \"African-American\")))"
      ],
      "execution_count": 68,
      "outputs": [
        {
          "output_type": "stream",
          "text": [
            "Call:\n",
            "coxph(formula = vf, data = filter(violent_data, race == \"African-American\"))\n",
            "\n",
            "  n= 9712, number of events= 495 \n",
            "\n",
            "                     coef exp(coef) se(coef)      z Pr(>|z|)    \n",
            "score_factorHigh   1.2412    3.4596   0.1140 10.891  < 2e-16 ***\n",
            "score_factorMedium 0.7589    2.1359   0.1202  6.315 2.71e-10 ***\n",
            "---\n",
            "Signif. codes:  0 ‘***’ 0.001 ‘**’ 0.01 ‘*’ 0.05 ‘.’ 0.1 ‘ ’ 1\n",
            "\n",
            "                   exp(coef) exp(-coef) lower .95 upper .95\n",
            "score_factorHigh       3.460     0.2891     2.767     4.325\n",
            "score_factorMedium     2.136     0.4682     1.688     2.703\n",
            "\n",
            "Concordance= 0.638  (se = 0.012 )\n",
            "Likelihood ratio test= 127.5  on 2 df,   p=<2e-16\n",
            "Wald test            = 118.7  on 2 df,   p=<2e-16\n",
            "Score (logrank) test = 130.9  on 2 df,   p=<2e-16\n",
            "\n"
          ],
          "name": "stdout"
        }
      ]
    },
    {
      "cell_type": "code",
      "metadata": {
        "colab": {
          "base_uri": "https://localhost:8080/"
        },
        "id": "TgZCVI5iqlBo",
        "outputId": "670e3a7d-9a4f-4823-a759-3e4188a83106"
      },
      "source": [
        "%%R\n",
        "summary(coxph(vf, data=filter(violent_data, race == \"Caucasian\")))"
      ],
      "execution_count": 69,
      "outputs": [
        {
          "output_type": "stream",
          "text": [
            "Call:\n",
            "coxph(formula = vf, data = filter(violent_data, race == \"Caucasian\"))\n",
            "\n",
            "  n= 6041, number of events= 221 \n",
            "\n",
            "                     coef exp(coef) se(coef)     z Pr(>|z|)    \n",
            "score_factorHigh   1.2502    3.4909   0.1720 7.267 3.67e-13 ***\n",
            "score_factorMedium 0.6310    1.8794   0.1583 3.986 6.71e-05 ***\n",
            "---\n",
            "Signif. codes:  0 ‘***’ 0.001 ‘**’ 0.01 ‘*’ 0.05 ‘.’ 0.1 ‘ ’ 1\n",
            "\n",
            "                   exp(coef) exp(-coef) lower .95 upper .95\n",
            "score_factorHigh       3.491     0.2865     2.492     4.891\n",
            "score_factorMedium     1.879     0.5321     1.378     2.563\n",
            "\n",
            "Concordance= 0.61  (se = 0.018 )\n",
            "Likelihood ratio test= 49.63  on 2 df,   p=2e-11\n",
            "Wald test            = 55.48  on 2 df,   p=9e-13\n",
            "Score (logrank) test = 61.24  on 2 df,   p=5e-14\n",
            "\n"
          ],
          "name": "stdout"
        }
      ]
    },
    {
      "cell_type": "code",
      "metadata": {
        "colab": {
          "base_uri": "https://localhost:8080/",
          "height": 492
        },
        "id": "jNXx4u4PqnHU",
        "outputId": "52455bfb-bf64-4625-b603-dec4b37a7d4d"
      },
      "source": [
        "%%R -w 900 -h 363 -u px\n",
        "white <- filter(violent_data, race == \"Caucasian\")\n",
        "white_fit <- survfit(vf, data=white)\n",
        "\n",
        "black <- filter(violent_data, race == \"African-American\")\n",
        "black_fit <- survfit(vf, data=black)\n",
        "\n",
        "grid.arrange(plotty(white_fit, \"White defendants\"), \n",
        "             plotty(black_fit, \"Black defendants\"), ncol=2)"
      ],
      "execution_count": 70,
      "outputs": [
        {
          "output_type": "stream",
          "text": [
            "R[write to console]: Scale for 'y' is already present. Adding another scale for 'y', which will\n",
            "replace the existing scale.\n",
            "\n",
            "R[write to console]: Scale for 'y' is already present. Adding another scale for 'y', which will\n",
            "replace the existing scale.\n",
            "\n"
          ],
          "name": "stderr"
        },
        {
          "output_type": "display_data",
          "data": {
            "image/png": "[encoded data removed]"
          },
          "metadata": {
            "tags": []
          }
        }
      ]
    },
    {
      "cell_type": "markdown",
      "metadata": {
        "id": "h83xRcxJqr7V"
      },
      "source": [
        "\n",
        "Directions of the Racial Bias\n",
        "\n",
        "The above analysis shows that the Compas algorithm does overpredict African-American defendant's future recidivism, but we haven't yet explored the direction of the bias. We can discover fine differences in overprediction and underprediction by comparing Compas scores across racial lines.\n"
      ]
    },
    {
      "cell_type": "code",
      "metadata": {
        "id": "sm_WFxjBrEni"
      },
      "source": [
        "class Person:\n",
        "    def __init__(self, reader):\n",
        "        self.__rows = []\n",
        "        self.__idx = reader.peek()['id']\n",
        "        try:\n",
        "            while reader.peek()['id'] == self.__idx:\n",
        "                self.__rows.append(next(reader))\n",
        "        except StopIteration:\n",
        "            pass\n",
        "\n",
        "    @property\n",
        "    def lifetime(self):\n",
        "        memo = 0\n",
        "        for it in self.__rows:\n",
        "            memo += int(it['end']) - int(it['start'])\n",
        "        return memo\n",
        "\n",
        "    @property\n",
        "    def recidivist(self):\n",
        "        return (self.__rows[0]['is_recid'] == \"1\" and\n",
        "                self.lifetime <= 730)\n",
        "\n",
        "    @property\n",
        "    def violent_recidivist(self):\n",
        "        return (self.__rows[0]['is_violent_recid'] == \"1\" and\n",
        "                self.lifetime <= 730)\n",
        "\n",
        "    @property\n",
        "    def low(self):\n",
        "        return self.__rows[0]['score_text'] == \"Low\"\n",
        "\n",
        "    @property\n",
        "    def high(self):\n",
        "        return not self.low\n",
        "\n",
        "    @property\n",
        "    def low_med(self):\n",
        "        return self.low or self.score == \"Medium\"\n",
        "\n",
        "    @property\n",
        "    def true_high(self):\n",
        "        return self.score == \"High\"\n",
        "\n",
        "    @property\n",
        "    def vlow(self):\n",
        "        return self.__rows[0]['v_score_text'] == \"Low\"\n",
        "\n",
        "    @property\n",
        "    def vhigh(self):\n",
        "        return not self.vlow\n",
        "\n",
        "    @property\n",
        "    def vlow_med(self):\n",
        "        return self.vlow or self.vscore == \"Medium\"\n",
        "\n",
        "    @property\n",
        "    def vtrue_high(self):\n",
        "        return self.vscore == \"High\"\n",
        "\n",
        "    @property\n",
        "    def score(self):\n",
        "        return self.__rows[0]['score_text']\n",
        "\n",
        "    @property\n",
        "    def vscore(self):\n",
        "        return self.__rows[0]['v_score_text']\n",
        "\n",
        "    @property\n",
        "    def race(self):\n",
        "        return self.__rows[0]['race']\n",
        "\n",
        "    @property\n",
        "    def valid(self):\n",
        "        return (self.__rows[0]['is_recid'] != \"-1\" and\n",
        "                (self.recidivist and self.lifetime <= 730) or\n",
        "                self.lifetime > 730)\n",
        "\n",
        "    @property\n",
        "    def compas_felony(self):\n",
        "        return 'F' in self.__rows[0]['c_charge_degree']\n",
        "\n",
        "    @property\n",
        "    def score_valid(self):\n",
        "        return self.score in [\"Low\", \"Medium\", \"High\"]\n",
        "\n",
        "    @property\n",
        "    def vscore_valid(self):\n",
        "        return self.vscore in [\"Low\", \"Medium\", \"High\"]\n",
        "\n",
        "    @property\n",
        "    def rows(self):\n",
        "        return self.__rows"
      ],
      "execution_count": 72,
      "outputs": []
    },
    {
      "cell_type": "code",
      "metadata": {
        "id": "BrTFR8zirKzd"
      },
      "source": [
        "class PeekyReader:\n",
        "    def __init__(self, reader):\n",
        "        self.peeked = None\n",
        "        self.reader = reader\n",
        "\n",
        "    def peek(self):\n",
        "        if self.peeked is None:\n",
        "            self.peeked = next(self.reader)\n",
        "        return self.peeked\n",
        "\n",
        "    def __iter__(self):\n",
        "        return self\n",
        "\n",
        "    def __next__(self):\n",
        "        if self.peeked is not None:\n",
        "            ret = self.peeked\n",
        "            self.peeked = None\n",
        "            return ret\n",
        "        try:\n",
        "            return next(self.reader)\n",
        "        except StopIteration:\n",
        "            self.peeked = None\n",
        "            raise StopIteration\n"
      ],
      "execution_count": 73,
      "outputs": []
    },
    {
      "cell_type": "code",
      "metadata": {
        "colab": {
          "base_uri": "https://localhost:8080/"
        },
        "id": "FCJco3shrSHn",
        "outputId": "ab8a8579-c823-4a7e-fa09-62dc8c78d371"
      },
      "source": [
        "!wget https://github.com/propublica/compas-analysis/raw/master/cox-parsed.csv"
      ],
      "execution_count": 74,
      "outputs": [
        {
          "output_type": "stream",
          "text": [
            "--2021-07-06 02:37:23--  https://github.com/propublica/compas-analysis/raw/master/cox-parsed.csv\n",
            "Resolving github.com (github.com)... 140.82.112.4\n",
            "Connecting to github.com (github.com)|140.82.112.4|:443... connected.\n",
            "HTTP request sent, awaiting response... 302 Found\n",
            "Location: https://raw.githubusercontent.com/propublica/compas-analysis/master/cox-parsed.csv [following]\n",
            "--2021-07-06 02:37:24--  https://raw.githubusercontent.com/propublica/compas-analysis/master/cox-parsed.csv\n",
            "Resolving raw.githubusercontent.com (raw.githubusercontent.com)... 185.199.108.133, 185.199.110.133, 185.199.109.133, ...\n",
            "Connecting to raw.githubusercontent.com (raw.githubusercontent.com)|185.199.108.133|:443... connected.\n",
            "HTTP request sent, awaiting response... 200 OK\n",
            "Length: 4594051 (4.4M) [text/plain]\n",
            "Saving to: ‘cox-parsed.csv.1’\n",
            "\n",
            "cox-parsed.csv.1    100%[===================>]   4.38M  26.3MB/s    in 0.2s    \n",
            "\n",
            "2021-07-06 02:37:24 (26.3 MB/s) - ‘cox-parsed.csv.1’ saved [4594051/4594051]\n",
            "\n"
          ],
          "name": "stdout"
        }
      ]
    },
    {
      "cell_type": "code",
      "metadata": {
        "id": "HXTTlIFZqsRx"
      },
      "source": [
        "\n",
        "from csv import DictReader\n",
        "\n",
        "people = []\n",
        "with open(\"./cox-parsed.csv\") as f:\n",
        "    reader = PeekyReader(DictReader(f))\n",
        "    try:\n",
        "        while True:\n",
        "            p = Person(reader)\n",
        "            if p.valid:\n",
        "                people.append(p)\n",
        "    except StopIteration:\n",
        "        pass\n",
        "\n",
        "pop = list(filter(lambda i: ((i.recidivist == True and i.lifetime <= 730) or\n",
        "                              i.lifetime > 730), list(filter(lambda x: x.score_valid, people))))\n",
        "recid = list(filter(lambda i: i.recidivist == True and i.lifetime <= 730, pop))\n",
        "rset = set(recid)\n",
        "surv = [i for i in pop if i not in rset]"
      ],
      "execution_count": 75,
      "outputs": []
    },
    {
      "cell_type": "code",
      "metadata": {
        "id": "Kf1BA1KOrqVr"
      },
      "source": [
        "def count(fn, data):\n",
        "    return len(list(filter(fn, list(data))))"
      ],
      "execution_count": 79,
      "outputs": []
    },
    {
      "cell_type": "code",
      "metadata": {
        "id": "o8WQ10q0r6iO"
      },
      "source": [
        "def t(tn, fp, fn, tp):\n",
        "    surv = tn + fp\n",
        "    recid = tp + fn\n",
        "    print(\"           \\tLow\\tHigh\")\n",
        "    print(\"Survived   \\t%i\\t%i\\t%.2f\" % (tn, fp, surv / (surv + recid)))\n",
        "    print(\"Recidivated\\t%i\\t%i\\t%.2f\" % (fn, tp, recid / (surv + recid)))\n",
        "    print(\"Total: %.2f\" % (surv + recid))\n",
        "    print(\"False positive rate: %.2f\" % (fp / surv * 100))\n",
        "    print(\"False negative rate: %.2f\" % (fn / recid * 100))\n",
        "    spec = tn / (tn + fp)\n",
        "    sens = tp / (tp + fn)\n",
        "    ppv = tp / (tp + fp)\n",
        "    npv = tn / (tn + fn)\n",
        "    prev = recid / (surv + recid)\n",
        "    print(\"Specificity: %.2f\" % spec)\n",
        "    print(\"Sensitivity: %.2f\" % sens)\n",
        "    print(\"Prevalence: %.2f\" % prev)\n",
        "    print(\"PPV: %.2f\" % ppv)\n",
        "    print(\"NPV: %.2f\" % npv)\n",
        "    print(\"LR+: %.2f\" % (sens / (1 - spec)))\n",
        "    print(\"LR-: %.2f\" % ((1-sens) / spec))"
      ],
      "execution_count": 82,
      "outputs": []
    },
    {
      "cell_type": "code",
      "metadata": {
        "id": "pEmudY_crgqD"
      },
      "source": [
        "def table(recid, surv, prefix=''):\n",
        "    tn = count(lambda i: getattr(i, prefix + 'low'), surv)\n",
        "    fp = count(lambda i: getattr(i, prefix + 'high'), surv)\n",
        "    fn = count(lambda i: getattr(i, prefix + 'low'), recid)\n",
        "    tp = count(lambda i: getattr(i, prefix + 'high'), recid)\n",
        "    t(tn, fp, fn, tp)"
      ],
      "execution_count": 83,
      "outputs": []
    },
    {
      "cell_type": "code",
      "metadata": {
        "colab": {
          "base_uri": "https://localhost:8080/"
        },
        "id": "lotthMT1rX9a",
        "outputId": "1949bbf4-2c5a-4456-c0a1-3f70e0c0978e"
      },
      "source": [
        "print(\"All defendants\")\n",
        "table(list(recid), list(surv))\n",
        "\n"
      ],
      "execution_count": 84,
      "outputs": [
        {
          "output_type": "stream",
          "text": [
            "All defendants\n",
            "           \tLow\tHigh\n",
            "Survived   \t2681\t1282\t0.55\n",
            "Recidivated\t1216\t2035\t0.45\n",
            "Total: 7214.00\n",
            "False positive rate: 32.35\n",
            "False negative rate: 37.40\n",
            "Specificity: 0.68\n",
            "Sensitivity: 0.63\n",
            "Prevalence: 0.45\n",
            "PPV: 0.61\n",
            "NPV: 0.69\n",
            "LR+: 1.94\n",
            "LR-: 0.55\n"
          ],
          "name": "stdout"
        }
      ]
    },
    {
      "cell_type": "code",
      "metadata": {
        "colab": {
          "base_uri": "https://localhost:8080/"
        },
        "id": "h94WvjsEr8vp",
        "outputId": "9ee58033-cc33-4b9f-bc66-6be3ca2b5eb3"
      },
      "source": [
        "print(\"Total pop: %i\" % (2681 + 1282 + 1216 + 2035))"
      ],
      "execution_count": 85,
      "outputs": [
        {
          "output_type": "stream",
          "text": [
            "Total pop: 7214\n"
          ],
          "name": "stdout"
        }
      ]
    },
    {
      "cell_type": "code",
      "metadata": {
        "colab": {
          "base_uri": "https://localhost:8080/"
        },
        "id": "AHTz28tvsAZW",
        "outputId": "8d8c9f69-62eb-4dab-9265-5776613414bf"
      },
      "source": [
        "import statistics\n",
        "print(\"Average followup time %.2f (sd %.2f)\" % (statistics.mean(map(lambda i: i.lifetime, pop)),\n",
        "                                                statistics.stdev(map(lambda i: i.lifetime, pop))))\n",
        "print(\"Median followup time %i\" % (statistics.median(map(lambda i: i.lifetime, pop))))"
      ],
      "execution_count": 86,
      "outputs": [
        {
          "output_type": "stream",
          "text": [
            "Average followup time 622.87 (sd 392.19)\n",
            "Median followup time 766\n"
          ],
          "name": "stdout"
        }
      ]
    },
    {
      "cell_type": "markdown",
      "metadata": {
        "id": "TQy5SRLksB7r"
      },
      "source": [
        "Overall, the false positive rate is 32.35%."
      ]
    },
    {
      "cell_type": "code",
      "metadata": {
        "id": "jooXdoD_sKRs"
      },
      "source": [
        "def is_race(race):\n",
        "    return lambda x: x.race == race"
      ],
      "execution_count": 89,
      "outputs": []
    },
    {
      "cell_type": "code",
      "metadata": {
        "colab": {
          "base_uri": "https://localhost:8080/"
        },
        "id": "vjM04v-BsCTu",
        "outputId": "4ba1e6d8-c772-4900-c357-6ba88421819f"
      },
      "source": [
        "print(\"Black defendants\")\n",
        "is_afam = is_race(\"African-American\")\n",
        "table(list(filter(is_afam, recid)), list(filter(is_afam, surv)))"
      ],
      "execution_count": 90,
      "outputs": [
        {
          "output_type": "stream",
          "text": [
            "Black defendants\n",
            "           \tLow\tHigh\n",
            "Survived   \t990\t805\t0.49\n",
            "Recidivated\t532\t1369\t0.51\n",
            "Total: 3696.00\n",
            "False positive rate: 44.85\n",
            "False negative rate: 27.99\n",
            "Specificity: 0.55\n",
            "Sensitivity: 0.72\n",
            "Prevalence: 0.51\n",
            "PPV: 0.63\n",
            "NPV: 0.65\n",
            "LR+: 1.61\n",
            "LR-: 0.51\n"
          ],
          "name": "stdout"
        }
      ]
    },
    {
      "cell_type": "markdown",
      "metadata": {
        "id": "Nh8A4L_tsRNx"
      },
      "source": [
        "\n",
        "\n",
        "That number is higher for African Americans at 44.85%.\n"
      ]
    },
    {
      "cell_type": "code",
      "metadata": {
        "colab": {
          "base_uri": "https://localhost:8080/"
        },
        "id": "av16G5ZtsOzT",
        "outputId": "a357d137-6cae-472b-f98c-e8b436a26d5a"
      },
      "source": [
        "print(\"White defendants\")\n",
        "is_white = is_race(\"Caucasian\")\n",
        "table(list(filter(is_white, recid)), list(filter(is_white, surv)))"
      ],
      "execution_count": 91,
      "outputs": [
        {
          "output_type": "stream",
          "text": [
            "White defendants\n",
            "           \tLow\tHigh\n",
            "Survived   \t1139\t349\t0.61\n",
            "Recidivated\t461\t505\t0.39\n",
            "Total: 2454.00\n",
            "False positive rate: 23.45\n",
            "False negative rate: 47.72\n",
            "Specificity: 0.77\n",
            "Sensitivity: 0.52\n",
            "Prevalence: 0.39\n",
            "PPV: 0.59\n",
            "NPV: 0.71\n",
            "LR+: 2.23\n",
            "LR-: 0.62\n"
          ],
          "name": "stdout"
        }
      ]
    },
    {
      "cell_type": "code",
      "metadata": {
        "colab": {
          "base_uri": "https://localhost:8080/"
        },
        "id": "CJmG1HApsVgT",
        "outputId": "f56d2aab-f4d9-4bcd-8d6e-bba7b39d51b8"
      },
      "source": [
        "44.85 / 23.45"
      ],
      "execution_count": 92,
      "outputs": [
        {
          "output_type": "execute_result",
          "data": {
            "text/plain": [
              "1.9125799573560769"
            ]
          },
          "metadata": {
            "tags": []
          },
          "execution_count": 92
        }
      ]
    },
    {
      "cell_type": "markdown",
      "metadata": {
        "id": "u0KPCiSLsXUY"
      },
      "source": [
        "\n",
        "\n",
        "Which means under COMPAS black defendants are 91% more likely to get a higher score and not go on to commit more crimes than white defendants after two year.\n",
        "\n",
        "COMPAS scores misclassify white reoffenders as low risk at 70.4% more often than black reoffenders.\n"
      ]
    },
    {
      "cell_type": "code",
      "metadata": {
        "colab": {
          "base_uri": "https://localhost:8080/"
        },
        "id": "qY1DtUucsXmt",
        "outputId": "a7c30030-782e-4588-a330-09bf40c1fb33"
      },
      "source": [
        "47.72 / 27.99"
      ],
      "execution_count": 93,
      "outputs": [
        {
          "output_type": "execute_result",
          "data": {
            "text/plain": [
              "1.7048946052161487"
            ]
          },
          "metadata": {
            "tags": []
          },
          "execution_count": 93
        }
      ]
    },
    {
      "cell_type": "code",
      "metadata": {
        "id": "rlziu0qksfOP"
      },
      "source": [
        "def hightable(recid, surv, prefix=''):\n",
        "    tn = count(lambda i: getattr(i, prefix + 'low_med'), surv)\n",
        "    fp = count(lambda i: getattr(i, prefix + 'true_high'), surv)\n",
        "    fn = count(lambda i: getattr(i, prefix + 'low_med'), recid)\n",
        "    tp = count(lambda i: getattr(i, prefix + 'true_high'), recid)\n",
        "    t(tn, fp, fn, tp)"
      ],
      "execution_count": 95,
      "outputs": []
    },
    {
      "cell_type": "code",
      "metadata": {
        "colab": {
          "base_uri": "https://localhost:8080/"
        },
        "id": "APasqikFsd2a",
        "outputId": "83f65c78-367e-4716-b6ea-92ef7391fb5f"
      },
      "source": [
        "hightable(list(filter(is_white, recid)), list(filter(is_white, surv)))"
      ],
      "execution_count": 96,
      "outputs": [
        {
          "output_type": "stream",
          "text": [
            "           \tLow\tHigh\n",
            "Survived   \t1407\t81\t0.61\n",
            "Recidivated\t771\t195\t0.39\n",
            "Total: 2454.00\n",
            "False positive rate: 5.44\n",
            "False negative rate: 79.81\n",
            "Specificity: 0.95\n",
            "Sensitivity: 0.20\n",
            "Prevalence: 0.39\n",
            "PPV: 0.71\n",
            "NPV: 0.65\n",
            "LR+: 3.71\n",
            "LR-: 0.84\n"
          ],
          "name": "stdout"
        }
      ]
    },
    {
      "cell_type": "code",
      "metadata": {
        "colab": {
          "base_uri": "https://localhost:8080/"
        },
        "id": "FWqgGWEvskxi",
        "outputId": "ef704dc7-a695-4675-aa6f-4b1e8c4f122b"
      },
      "source": [
        "hightable(list(filter(is_afam, recid)), list(filter(is_afam, surv)))"
      ],
      "execution_count": 97,
      "outputs": [
        {
          "output_type": "stream",
          "text": [
            "           \tLow\tHigh\n",
            "Survived   \t1511\t284\t0.49\n",
            "Recidivated\t1160\t741\t0.51\n",
            "Total: 3696.00\n",
            "False positive rate: 15.82\n",
            "False negative rate: 61.02\n",
            "Specificity: 0.84\n",
            "Sensitivity: 0.39\n",
            "Prevalence: 0.51\n",
            "PPV: 0.72\n",
            "NPV: 0.57\n",
            "LR+: 2.46\n",
            "LR-: 0.72\n"
          ],
          "name": "stdout"
        }
      ]
    },
    {
      "cell_type": "markdown",
      "metadata": {
        "id": "Gppwg0Znsn-s"
      },
      "source": [
        "\n",
        "Risk of Violent Recidivism\n",
        "\n",
        "Compas also offers a score that aims to measure a persons risk of violent recidivism, which has a similar overall accuracy to the Recidivism score.\n"
      ]
    },
    {
      "cell_type": "code",
      "metadata": {
        "id": "0CdVCCccsoZC"
      },
      "source": [
        "vpeople = []\n",
        "with open(\"./cox-violent-parsed.csv\") as f:\n",
        "    reader = PeekyReader(DictReader(f))\n",
        "    try:\n",
        "        while True:\n",
        "            p = Person(reader)\n",
        "            if p.valid:\n",
        "                vpeople.append(p)\n",
        "    except StopIteration:\n",
        "        pass\n",
        "\n",
        "vpop = list(filter(lambda i: ((i.violent_recidivist == True and i.lifetime <= 730) or\n",
        "                              i.lifetime > 730), list(filter(lambda x: x.vscore_valid, vpeople))))\n",
        "vrecid = list(filter(lambda i: i.violent_recidivist == True and i.lifetime <= 730, vpeople))\n",
        "vrset = set(vrecid)\n",
        "vsurv = [i for i in vpop if i not in vrset]"
      ],
      "execution_count": 98,
      "outputs": []
    },
    {
      "cell_type": "code",
      "metadata": {
        "id": "rR49mw5VsuVY"
      },
      "source": [
        "def vtable(recid, surv):\n",
        "    table(recid, surv, prefix='v')"
      ],
      "execution_count": 100,
      "outputs": []
    },
    {
      "cell_type": "code",
      "metadata": {
        "colab": {
          "base_uri": "https://localhost:8080/"
        },
        "id": "4tiUSQjNstJJ",
        "outputId": "a2f5174d-67d8-4647-d118-66c463cd423b"
      },
      "source": [
        "print(\"All defendants\")\n",
        "vtable(list(vrecid), list(vsurv))"
      ],
      "execution_count": 101,
      "outputs": [
        {
          "output_type": "stream",
          "text": [
            "All defendants\n",
            "           \tLow\tHigh\n",
            "Survived   \t4121\t1597\t0.89\n",
            "Recidivated\t347\t389\t0.11\n",
            "Total: 6454.00\n",
            "False positive rate: 27.93\n",
            "False negative rate: 47.15\n",
            "Specificity: 0.72\n",
            "Sensitivity: 0.53\n",
            "Prevalence: 0.11\n",
            "PPV: 0.20\n",
            "NPV: 0.92\n",
            "LR+: 1.89\n",
            "LR-: 0.65\n"
          ],
          "name": "stdout"
        }
      ]
    },
    {
      "cell_type": "markdown",
      "metadata": {
        "id": "7zXDQd7Zs0P9"
      },
      "source": [
        "Even moreso for Black defendants."
      ]
    },
    {
      "cell_type": "code",
      "metadata": {
        "colab": {
          "base_uri": "https://localhost:8080/"
        },
        "id": "_NF3mudcs1Y3",
        "outputId": "f9e7ab5a-9ece-4a5a-c2d3-87625b1949d9"
      },
      "source": [
        "print(\"Black defendants\")\n",
        "is_afam = is_race(\"African-American\")\n",
        "vtable(list(filter(is_afam, vrecid)), list(filter(is_afam, vsurv)))"
      ],
      "execution_count": 102,
      "outputs": [
        {
          "output_type": "stream",
          "text": [
            "Black defendants\n",
            "           \tLow\tHigh\n",
            "Survived   \t1692\t1043\t0.86\n",
            "Recidivated\t170\t273\t0.14\n",
            "Total: 3178.00\n",
            "False positive rate: 38.14\n",
            "False negative rate: 38.37\n",
            "Specificity: 0.62\n",
            "Sensitivity: 0.62\n",
            "Prevalence: 0.14\n",
            "PPV: 0.21\n",
            "NPV: 0.91\n",
            "LR+: 1.62\n",
            "LR-: 0.62\n"
          ],
          "name": "stdout"
        }
      ]
    },
    {
      "cell_type": "code",
      "metadata": {
        "colab": {
          "base_uri": "https://localhost:8080/"
        },
        "id": "KBSVpISisyiA",
        "outputId": "f1bb1341-ad5e-430c-c575-9ba7c7a06d99"
      },
      "source": [
        "\n",
        "\n",
        "print(\"White defendants\")\n",
        "is_white = is_race(\"Caucasian\")\n",
        "vtable(list(filter(is_white, vrecid)), list(filter(is_white, vsurv)))\n",
        "\n"
      ],
      "execution_count": 103,
      "outputs": [
        {
          "output_type": "stream",
          "text": [
            "White defendants\n",
            "           \tLow\tHigh\n",
            "Survived   \t1679\t380\t0.91\n",
            "Recidivated\t129\t77\t0.09\n",
            "Total: 2265.00\n",
            "False positive rate: 18.46\n",
            "False negative rate: 62.62\n",
            "Specificity: 0.82\n",
            "Sensitivity: 0.37\n",
            "Prevalence: 0.09\n",
            "PPV: 0.17\n",
            "NPV: 0.93\n",
            "LR+: 2.03\n",
            "LR-: 0.77\n"
          ],
          "name": "stdout"
        }
      ]
    },
    {
      "cell_type": "markdown",
      "metadata": {
        "id": "3llboDp-s7Aq"
      },
      "source": [
        "Black defendants are twice as likely to be false positives for a Higher violent score than white defendants."
      ]
    },
    {
      "cell_type": "code",
      "metadata": {
        "colab": {
          "base_uri": "https://localhost:8080/"
        },
        "id": "xfmzwCoTs7kF",
        "outputId": "e1249be6-78f9-4c6e-e4a9-e9fa023feca2"
      },
      "source": [
        "38.14 / 18.46\n"
      ],
      "execution_count": 104,
      "outputs": [
        {
          "output_type": "execute_result",
          "data": {
            "text/plain": [
              "2.066088840736728"
            ]
          },
          "metadata": {
            "tags": []
          },
          "execution_count": 104
        }
      ]
    },
    {
      "cell_type": "markdown",
      "metadata": {
        "id": "Qim4bg_Os-yw"
      },
      "source": [
        "White defendants are 63% more likely to get a lower score and commit another crime than Black defendants."
      ]
    },
    {
      "cell_type": "code",
      "metadata": {
        "colab": {
          "base_uri": "https://localhost:8080/"
        },
        "id": "w6dhDilVs_a3",
        "outputId": "ba0d7359-8a33-4bca-83ae-df7a5d746989"
      },
      "source": [
        "62.62 / 38.37\n"
      ],
      "execution_count": 105,
      "outputs": [
        {
          "output_type": "execute_result",
          "data": {
            "text/plain": [
              "1.63200416992442"
            ]
          },
          "metadata": {
            "tags": []
          },
          "execution_count": 105
        }
      ]
    },
    {
      "cell_type": "markdown",
      "metadata": {
        "id": "Of9drOM_tDKE"
      },
      "source": [
        "\n",
        "Gender differences in Compas scores\n",
        "\n",
        "In terms of underlying recidivism rates, we can look at gender specific Kaplan Meier estimates. There is a striking difference between women and men.\n"
      ]
    },
    {
      "cell_type": "code",
      "metadata": {
        "id": "xwipOLlMtDnj"
      },
      "source": [
        "%%R\n",
        "\n",
        "female <- filter(data, sex == \"Female\")\n",
        "male   <- filter(data, sex == \"Male\")\n",
        "male_fit <- survfit(f, data=male)\n",
        "female_fit <- survfit(f, data=female)"
      ],
      "execution_count": 106,
      "outputs": []
    },
    {
      "cell_type": "code",
      "metadata": {
        "colab": {
          "base_uri": "https://localhost:8080/"
        },
        "id": "DBGFCgbStG2i",
        "outputId": "d579a4d3-8f4d-4ad2-c36f-e9b3aa4314f3"
      },
      "source": [
        "%%R\n",
        "summary(male_fit, times=c(730))"
      ],
      "execution_count": 107,
      "outputs": [
        {
          "output_type": "stream",
          "text": [
            "Call: survfit(formula = f, data = male)\n",
            "\n",
            "                score_factor=Low \n",
            "        time       n.risk      n.event     survival      std.err lower 95% CI \n",
            "    7.30e+02     2.13e+03     1.02e+03     7.58e-01     6.67e-03     7.45e-01 \n",
            "upper 95% CI \n",
            "    7.71e-01 \n",
            "\n",
            "                score_factor=High \n",
            "        time       n.risk      n.event     survival      std.err lower 95% CI \n",
            "     730.000      421.000      857.000        0.388        0.013        0.363 \n",
            "upper 95% CI \n",
            "       0.414 \n",
            "\n",
            "                score_factor=Medium \n",
            "        time       n.risk      n.event     survival      std.err lower 95% CI \n",
            "    730.0000     752.0000     838.0000       0.5352       0.0118       0.5126 \n",
            "upper 95% CI \n",
            "      0.5588 \n",
            "\n"
          ],
          "name": "stdout"
        }
      ]
    },
    {
      "cell_type": "code",
      "metadata": {
        "colab": {
          "base_uri": "https://localhost:8080/"
        },
        "id": "stpozqV5tIqZ",
        "outputId": "6ee7ec97-5e29-4948-df69-7965b8ce9d68"
      },
      "source": [
        "%%R\n",
        "summary(female_fit, times=c(730))"
      ],
      "execution_count": 108,
      "outputs": [
        {
          "output_type": "stream",
          "text": [
            "Call: survfit(formula = f, data = female)\n",
            "\n",
            "                score_factor=Low \n",
            "        time       n.risk      n.event     survival      std.err lower 95% CI \n",
            "    730.0000     617.0000     194.0000       0.8381       0.0107       0.8174 \n",
            "upper 95% CI \n",
            "      0.8593 \n",
            "\n",
            "                score_factor=High \n",
            "        time       n.risk      n.event     survival      std.err lower 95% CI \n",
            "    730.0000      84.0000     115.0000       0.5252       0.0325       0.4652 \n",
            "upper 95% CI \n",
            "      0.5929 \n",
            "\n",
            "                score_factor=Medium \n",
            "        time       n.risk      n.event     survival      std.err lower 95% CI \n",
            "    730.0000     227.0000     184.0000       0.6586       0.0206       0.6194 \n",
            "upper 95% CI \n",
            "      0.7003 \n",
            "\n"
          ],
          "name": "stdout"
        }
      ]
    },
    {
      "cell_type": "code",
      "metadata": {
        "colab": {
          "base_uri": "https://localhost:8080/",
          "height": 492
        },
        "id": "VKsQIswBtKqv",
        "outputId": "711215e8-acec-44fb-f906-8d6702d10da7"
      },
      "source": [
        "%%R -w 900 -h 363 -u px\n",
        "grid.arrange(plotty(female_fit, \"Female\"), plotty(male_fit, \"Male\"),ncol=2)"
      ],
      "execution_count": 109,
      "outputs": [
        {
          "output_type": "stream",
          "text": [
            "R[write to console]: Scale for 'y' is already present. Adding another scale for 'y', which will\n",
            "replace the existing scale.\n",
            "\n",
            "R[write to console]: Scale for 'y' is already present. Adding another scale for 'y', which will\n",
            "replace the existing scale.\n",
            "\n"
          ],
          "name": "stderr"
        },
        {
          "output_type": "display_data",
          "data": {
            "image/png": "[encoded data removed]"
          },
          "metadata": {
            "tags": []
          }
        }
      ]
    },
    {
      "cell_type": "markdown",
      "metadata": {
        "id": "vqulxpF0tMv4"
      },
      "source": [
        "As these plots show, the Compas score treats a High risk women the same as a Medium risk man."
      ]
    },
    {
      "cell_type": "markdown",
      "metadata": {
        "id": "9udxrRKStQk8"
      },
      "source": [
        "code modified from:https://github.com/propublica/compas-analysis"
      ]
    }
  ]
}