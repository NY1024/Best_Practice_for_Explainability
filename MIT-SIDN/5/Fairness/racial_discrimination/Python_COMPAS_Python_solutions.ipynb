{
  "nbformat": 4,
  "nbformat_minor": 0,
  "metadata": {
    "kernelspec": {
      "display_name": "Python 3",
      "language": "python",
      "name": "python3"
    },
    "language_info": {
      "codemirror_mode": {
        "name": "ipython",
        "version": 3
      },
      "file_extension": ".py",
      "mimetype": "text/x-python",
      "name": "python",
      "nbconvert_exporter": "python",
      "pygments_lexer": "ipython3",
      "version": "3.6.7"
    },
    "colab": {
      "name": "COMPAS_Python_solutions.ipynb",
      "provenance": []
    }
  },
  "cells": [
    {
      "cell_type": "code",
      "metadata": {
        "id": "NmnPBp3lZaCz"
      },
      "source": [
        "%%bash\n",
        "# Some set-up specific to google colab.\n",
        "!(stat -t /usr/local/lib/*/dist-packages/google/colab > /dev/null 2>&1) && exit \n",
        "git clone https://github.com/SIDN-IAP/compas-python.git compas-python 2>> install.log\n",
        "cp compas-python/compas-scores-two-years.csv ."
      ],
      "execution_count": 1,
      "outputs": []
    },
    {
      "cell_type": "markdown",
      "metadata": {
        "id": "zHZ2um9_ZaC0"
      },
      "source": [
        "# COMPAS analysis\n",
        "\n",
        "We recreate the first section of the [Propublica COMPAS analysis](https://github.com/propublica/compas-analysis) in Python. \n",
        "\n",
        "What follows are the calculations performed for ProPublica's analaysis of the COMPAS Recidivism Risk Scores. It might be helpful to open [the methodology](https://www.propublica.org/article/how-we-analyzed-the-compas-recidivism-algorithm/) in another tab to understand the following.\n",
        "\n"
      ]
    },
    {
      "cell_type": "markdown",
      "metadata": {
        "id": "dtkFUVZIZaC1"
      },
      "source": [
        "## Loading the Data\n",
        "\n",
        "We select fields for severity of charge, number of priors, demographics, age, sex, compas scores, and whether each person was accused of a crime within two years.\n",
        "\n"
      ]
    },
    {
      "cell_type": "code",
      "metadata": {
        "id": "wOoIg9pYZaC2"
      },
      "source": [
        "import pandas as pd\n",
        "import datetime"
      ],
      "execution_count": 2,
      "outputs": []
    },
    {
      "cell_type": "code",
      "metadata": {
        "id": "9ScM6vKlZaC3",
        "outputId": "ae130da6-ea1e-476a-933d-a9796b774af6",
        "colab": {
          "base_uri": "https://localhost:8080/"
        }
      },
      "source": [
        "raw_data = pd.read_csv('./compas-scores-two-years.csv')\n",
        "print('Num rows: %d' %len(raw_data))\n",
        "\n",
        "df = raw_data"
      ],
      "execution_count": 3,
      "outputs": [
        {
          "output_type": "stream",
          "text": [
            "Num rows: 7214\n"
          ],
          "name": "stdout"
        }
      ]
    },
    {
      "cell_type": "markdown",
      "metadata": {
        "id": "eppsF7U4ZaC7"
      },
      "source": [
        "However not all of the rows are useable for the first round of analysis.\n",
        "\n",
        "There are a number of reasons remove rows because of missing data:\n",
        "\n",
        " - If the charge date of a defendants Compas scored crime was not within 30 days from when the person was arrested, we assume that because of data quality reasons, that we do not have the right offense.\n",
        " - We coded the recidivist flag -- is_recid -- to be -1 if we could not find a compas case at all.\n",
        " - In a similar vein, ordinary traffic offenses -- those with a df of 'O' -- will not result in Jail time are removed (only two of them).\n",
        " - We filtered the underlying data from Broward county to include only those rows representing people who had either recidivated in two years, or had at least two years outside of a correctional facility.\n",
        " - We remove rows where there is no score_text ('N/A')"
      ]
    },
    {
      "cell_type": "code",
      "metadata": {
        "id": "sfme7FdVZaC7",
        "outputId": "ab79ea21-450a-4dae-ca9e-f25d0d8eaa09",
        "colab": {
          "base_uri": "https://localhost:8080/"
        }
      },
      "source": [
        "df = df[((df['days_b_screening_arrest'] <=30) & \n",
        "      (df['days_b_screening_arrest'] >= -30) &\n",
        "      (df['is_recid'] != -1) &\n",
        "      (df['c_charge_degree'] != 'O') & \n",
        "      (df['score_text'] != 'N/A')\n",
        "     )]\n",
        "\n",
        "print('Num rows filtered: %d' % len(df))"
      ],
      "execution_count": 4,
      "outputs": [
        {
          "output_type": "stream",
          "text": [
            "Num rows filtered: 6172\n"
          ],
          "name": "stdout"
        }
      ]
    },
    {
      "cell_type": "markdown",
      "metadata": {
        "id": "rDEaK6PgZaC_"
      },
      "source": [
        "Higher COMPAS scores are slightly correlated with a longer length of stay.\n",
        "\n"
      ]
    },
    {
      "cell_type": "code",
      "metadata": {
        "id": "zb6TLZIpZaC_"
      },
      "source": [
        "import numpy as np\n",
        "from datetime import datetime\n",
        "from scipy.stats import pearsonr"
      ],
      "execution_count": 6,
      "outputs": []
    },
    {
      "cell_type": "code",
      "metadata": {
        "id": "70qmax8_ZaDC"
      },
      "source": [
        "def date_from_str(s):\n",
        "    return datetime.strptime(s, '%Y-%m-%d %H:%M:%S')"
      ],
      "execution_count": 7,
      "outputs": []
    },
    {
      "cell_type": "code",
      "metadata": {
        "id": "aQIZ2gt_ZaDC",
        "outputId": "d181deeb-da7f-4b6c-c515-25711a773563",
        "colab": {
          "base_uri": "https://localhost:8080/"
        }
      },
      "source": [
        "df['length_of_stay'] = (df['c_jail_out'].apply(date_from_str) - df['c_jail_in'].apply(date_from_str)).dt.total_seconds()\n",
        "stay_score_corr = pearsonr(df['length_of_stay'], df['decile_score'])[0]\n",
        "print('Correlation btw stay length and COMPAS scores: %.3f' % stay_score_corr)"
      ],
      "execution_count": 8,
      "outputs": [
        {
          "output_type": "stream",
          "text": [
            "Correlation btw stay length and COMPAS scores: 0.207\n"
          ],
          "name": "stdout"
        },
        {
          "output_type": "stream",
          "text": [
            "/usr/local/lib/python3.7/dist-packages/ipykernel_launcher.py:1: SettingWithCopyWarning: \n",
            "A value is trying to be set on a copy of a slice from a DataFrame.\n",
            "Try using .loc[row_indexer,col_indexer] = value instead\n",
            "\n",
            "See the caveats in the documentation: https://pandas.pydata.org/pandas-docs/stable/user_guide/indexing.html#returning-a-view-versus-a-copy\n",
            "  \"\"\"Entry point for launching an IPython kernel.\n"
          ],
          "name": "stderr"
        }
      ]
    },
    {
      "cell_type": "markdown",
      "metadata": {
        "id": "p1iXztmgZaDD"
      },
      "source": [
        "After filtering we have the following demographic breakdown:"
      ]
    },
    {
      "cell_type": "code",
      "metadata": {
        "id": "iRYbShMWZaDE",
        "outputId": "23e792b7-9949-4aa8-ddc6-29131e507261",
        "colab": {
          "base_uri": "https://localhost:8080/"
        }
      },
      "source": [
        "df['age_cat'].value_counts()"
      ],
      "execution_count": 9,
      "outputs": [
        {
          "output_type": "execute_result",
          "data": {
            "text/plain": [
              "25 - 45            3532\n",
              "Less than 25       1347\n",
              "Greater than 45    1293\n",
              "Name: age_cat, dtype: int64"
            ]
          },
          "metadata": {
            "tags": []
          },
          "execution_count": 9
        }
      ]
    },
    {
      "cell_type": "code",
      "metadata": {
        "id": "LxW8ZVxXZaDF",
        "outputId": "a64fa2ef-1951-4035-f7b8-19209d8d70bd",
        "colab": {
          "base_uri": "https://localhost:8080/"
        }
      },
      "source": [
        "df['race'].value_counts()"
      ],
      "execution_count": 10,
      "outputs": [
        {
          "output_type": "execute_result",
          "data": {
            "text/plain": [
              "African-American    3175\n",
              "Caucasian           2103\n",
              "Hispanic             509\n",
              "Other                343\n",
              "Asian                 31\n",
              "Native American       11\n",
              "Name: race, dtype: int64"
            ]
          },
          "metadata": {
            "tags": []
          },
          "execution_count": 10
        }
      ]
    },
    {
      "cell_type": "code",
      "metadata": {
        "id": "B6BLA13YZaDG",
        "outputId": "d4ef9eb1-4c45-4752-a3b8-653dcb921f37",
        "colab": {
          "base_uri": "https://localhost:8080/"
        }
      },
      "source": [
        "print(\"Black defendants: %.2f%%\" %            (3175 / 6172 * 100))\n",
        "print(\"White defendants: %.2f%%\" %            (2103 / 6172 * 100))\n",
        "print(\"Hispanic defendants: %.2f%%\" %         (509  / 6172 * 100))\n",
        "print(\"Asian defendants: %.2f%%\" %            (31   / 6172 * 100))\n",
        "print(\"Native American defendants: %.2f%%\" %  (11   / 6172 * 100))"
      ],
      "execution_count": 11,
      "outputs": [
        {
          "output_type": "stream",
          "text": [
            "Black defendants: 51.44%\n",
            "White defendants: 34.07%\n",
            "Hispanic defendants: 8.25%\n",
            "Asian defendants: 0.50%\n",
            "Native American defendants: 0.18%\n"
          ],
          "name": "stdout"
        }
      ]
    },
    {
      "cell_type": "code",
      "metadata": {
        "id": "E_SOAQ6fZaDH",
        "outputId": "6137ec0a-e772-4c18-eb2e-aba9428f22a2",
        "colab": {
          "base_uri": "https://localhost:8080/"
        }
      },
      "source": [
        "df['score_text'].value_counts()"
      ],
      "execution_count": 12,
      "outputs": [
        {
          "output_type": "execute_result",
          "data": {
            "text/plain": [
              "Low       3421\n",
              "Medium    1607\n",
              "High      1144\n",
              "Name: score_text, dtype: int64"
            ]
          },
          "metadata": {
            "tags": []
          },
          "execution_count": 12
        }
      ]
    },
    {
      "cell_type": "code",
      "metadata": {
        "id": "Pii7Rql2ZaDI",
        "outputId": "d854402f-1470-4cb2-d75f-e8bd85bc4982",
        "colab": {
          "base_uri": "https://localhost:8080/",
          "height": 143
        }
      },
      "source": [
        "pd.crosstab(df.sex, df.race)"
      ],
      "execution_count": 13,
      "outputs": [
        {
          "output_type": "execute_result",
          "data": {
            "text/html": [
              "<div>\n",
              "<style scoped>\n",
              "    .dataframe tbody tr th:only-of-type {\n",
              "        vertical-align: middle;\n",
              "    }\n",
              "\n",
              "    .dataframe tbody tr th {\n",
              "        vertical-align: top;\n",
              "    }\n",
              "\n",
              "    .dataframe thead th {\n",
              "        text-align: right;\n",
              "    }\n",
              "</style>\n",
              "<table border=\"1\" class=\"dataframe\">\n",
              "  <thead>\n",
              "    <tr style=\"text-align: right;\">\n",
              "      <th>race</th>\n",
              "      <th>African-American</th>\n",
              "      <th>Asian</th>\n",
              "      <th>Caucasian</th>\n",
              "      <th>Hispanic</th>\n",
              "      <th>Native American</th>\n",
              "      <th>Other</th>\n",
              "    </tr>\n",
              "    <tr>\n",
              "      <th>sex</th>\n",
              "      <th></th>\n",
              "      <th></th>\n",
              "      <th></th>\n",
              "      <th></th>\n",
              "      <th></th>\n",
              "      <th></th>\n",
              "    </tr>\n",
              "  </thead>\n",
              "  <tbody>\n",
              "    <tr>\n",
              "      <th>Female</th>\n",
              "      <td>549</td>\n",
              "      <td>2</td>\n",
              "      <td>482</td>\n",
              "      <td>82</td>\n",
              "      <td>2</td>\n",
              "      <td>58</td>\n",
              "    </tr>\n",
              "    <tr>\n",
              "      <th>Male</th>\n",
              "      <td>2626</td>\n",
              "      <td>29</td>\n",
              "      <td>1621</td>\n",
              "      <td>427</td>\n",
              "      <td>9</td>\n",
              "      <td>285</td>\n",
              "    </tr>\n",
              "  </tbody>\n",
              "</table>\n",
              "</div>"
            ],
            "text/plain": [
              "race    African-American  Asian  Caucasian  Hispanic  Native American  Other\n",
              "sex                                                                         \n",
              "Female               549      2        482        82                2     58\n",
              "Male                2626     29       1621       427                9    285"
            ]
          },
          "metadata": {
            "tags": []
          },
          "execution_count": 13
        }
      ]
    },
    {
      "cell_type": "code",
      "metadata": {
        "id": "YooS2CIYZaDJ",
        "outputId": "31d45ab8-4636-435c-8353-18a28df92372",
        "colab": {
          "base_uri": "https://localhost:8080/"
        }
      },
      "source": [
        "df['sex'].value_counts()"
      ],
      "execution_count": 14,
      "outputs": [
        {
          "output_type": "execute_result",
          "data": {
            "text/plain": [
              "Male      4997\n",
              "Female    1175\n",
              "Name: sex, dtype: int64"
            ]
          },
          "metadata": {
            "tags": []
          },
          "execution_count": 14
        }
      ]
    },
    {
      "cell_type": "code",
      "metadata": {
        "id": "KdueKXZqZaDL",
        "outputId": "51dd9d3e-3361-465d-a9c4-d878d7ae7d94",
        "colab": {
          "base_uri": "https://localhost:8080/"
        }
      },
      "source": [
        "print(\"Men: %.2f%%\" %   (4997 / 6172 * 100))\n",
        "print(\"Women: %.2f%%\" % (1175 / 6172 * 100))"
      ],
      "execution_count": 15,
      "outputs": [
        {
          "output_type": "stream",
          "text": [
            "Men: 80.96%\n",
            "Women: 19.04%\n"
          ],
          "name": "stdout"
        }
      ]
    },
    {
      "cell_type": "code",
      "metadata": {
        "id": "iRkys7GDZaDU",
        "outputId": "f8c39115-db7b-4759-890e-ca9dea861887",
        "colab": {
          "base_uri": "https://localhost:8080/"
        }
      },
      "source": [
        "print('Num with two-year recidivism: %d' % len(df['two_year_recid'] == 1))"
      ],
      "execution_count": 16,
      "outputs": [
        {
          "output_type": "stream",
          "text": [
            "Num with two-year recidivism: 6172\n"
          ],
          "name": "stdout"
        }
      ]
    },
    {
      "cell_type": "code",
      "metadata": {
        "id": "3tVgHYfsZaDU",
        "outputId": "8e95ddb0-c4af-4e49-f058-e34407e5b174",
        "colab": {
          "base_uri": "https://localhost:8080/"
        }
      },
      "source": [
        "print('Num with two-year recidivism: %.2f%%' % (len(df[df['two_year_recid'] == 1]) / len(df) * 100.))"
      ],
      "execution_count": 17,
      "outputs": [
        {
          "output_type": "stream",
          "text": [
            "Num with two-year recidivism: 45.51%\n"
          ],
          "name": "stdout"
        }
      ]
    },
    {
      "cell_type": "markdown",
      "metadata": {
        "id": "_6mixd8dZaDW"
      },
      "source": [
        "Judges are often presented with two sets of scores from the Compas system -- one that classifies people into High, Medium and Low risk, and a corresponding decile score. There is a clear downward trend in the decile scores as those scores increase for white defendants.\n",
        "\n"
      ]
    },
    {
      "cell_type": "code",
      "metadata": {
        "id": "Ris_1Gq-ZaDW"
      },
      "source": [
        "%matplotlib inline\n",
        "\n",
        "from matplotlib import pyplot as plt"
      ],
      "execution_count": 18,
      "outputs": []
    },
    {
      "cell_type": "code",
      "metadata": {
        "id": "iauLtPOxZaDX",
        "outputId": "497b453f-9a65-4992-830d-f2b53e5f019c",
        "colab": {
          "base_uri": "https://localhost:8080/",
          "height": 314
        }
      },
      "source": [
        "black_df = df[df['race'] == 'African-American']\n",
        "black_df['decile_score'].hist(edgecolor='white', bins=np.arange(13)-0.5,grid=False)\n",
        "plt.ylim([0,700])\n",
        "plt.xlim([0,11])\n",
        "plt.title('Black defendant decile scores')\n",
        "plt.xlabel('Score decile')\n",
        "plt.ylabel('Count')"
      ],
      "execution_count": 19,
      "outputs": [
        {
          "output_type": "execute_result",
          "data": {
            "text/plain": [
              "Text(0, 0.5, 'Count')"
            ]
          },
          "metadata": {
            "tags": []
          },
          "execution_count": 19
        },
        {
          "output_type": "display_data",
          "data": {
            "image/png": "[encoded data removed]",
            "text/plain": [
              "<Figure size 432x288 with 1 Axes>"
            ]
          },
          "metadata": {
            "tags": [],
            "needs_background": "light"
          }
        }
      ]
    },
    {
      "cell_type": "code",
      "metadata": {
        "id": "AmlLFMm9ZaDY",
        "outputId": "b2e02a2d-8a74-4e3d-bf98-cc55d4ef3778",
        "colab": {
          "base_uri": "https://localhost:8080/",
          "height": 314
        }
      },
      "source": [
        "black_df = df[df['race'] == 'Caucasian']\n",
        "black_df['decile_score'].hist(edgecolor='white', bins=np.arange(13)-0.5,grid=False)\n",
        "plt.ylim([0,700])\n",
        "plt.xlim([0,11])\n",
        "plt.title('White defendants decile scores')\n",
        "plt.xlabel('Score decile')"
      ],
      "execution_count": 20,
      "outputs": [
        {
          "output_type": "execute_result",
          "data": {
            "text/plain": [
              "Text(0.5, 0, 'Score decile')"
            ]
          },
          "metadata": {
            "tags": []
          },
          "execution_count": 20
        },
        {
          "output_type": "display_data",
          "data": {
            "image/png": "[encoded data removed]",
            "text/plain": [
              "<Figure size 432x288 with 1 Axes>"
            ]
          },
          "metadata": {
            "tags": [],
            "needs_background": "light"
          }
        }
      ]
    },
    {
      "cell_type": "code",
      "metadata": {
        "id": "NI78nwOvZaDY",
        "outputId": "e6eba08e-f38d-410f-ed50-fc919a9bce00",
        "colab": {
          "base_uri": "https://localhost:8080/",
          "height": 394
        }
      },
      "source": [
        "pd.crosstab(df.decile_score, df.race)"
      ],
      "execution_count": 21,
      "outputs": [
        {
          "output_type": "execute_result",
          "data": {
            "text/html": [
              "<div>\n",
              "<style scoped>\n",
              "    .dataframe tbody tr th:only-of-type {\n",
              "        vertical-align: middle;\n",
              "    }\n",
              "\n",
              "    .dataframe tbody tr th {\n",
              "        vertical-align: top;\n",
              "    }\n",
              "\n",
              "    .dataframe thead th {\n",
              "        text-align: right;\n",
              "    }\n",
              "</style>\n",
              "<table border=\"1\" class=\"dataframe\">\n",
              "  <thead>\n",
              "    <tr style=\"text-align: right;\">\n",
              "      <th>race</th>\n",
              "      <th>African-American</th>\n",
              "      <th>Asian</th>\n",
              "      <th>Caucasian</th>\n",
              "      <th>Hispanic</th>\n",
              "      <th>Native American</th>\n",
              "      <th>Other</th>\n",
              "    </tr>\n",
              "    <tr>\n",
              "      <th>decile_score</th>\n",
              "      <th></th>\n",
              "      <th></th>\n",
              "      <th></th>\n",
              "      <th></th>\n",
              "      <th></th>\n",
              "      <th></th>\n",
              "    </tr>\n",
              "  </thead>\n",
              "  <tbody>\n",
              "    <tr>\n",
              "      <th>1</th>\n",
              "      <td>365</td>\n",
              "      <td>15</td>\n",
              "      <td>605</td>\n",
              "      <td>159</td>\n",
              "      <td>0</td>\n",
              "      <td>142</td>\n",
              "    </tr>\n",
              "    <tr>\n",
              "      <th>2</th>\n",
              "      <td>346</td>\n",
              "      <td>4</td>\n",
              "      <td>321</td>\n",
              "      <td>89</td>\n",
              "      <td>2</td>\n",
              "      <td>60</td>\n",
              "    </tr>\n",
              "    <tr>\n",
              "      <th>3</th>\n",
              "      <td>298</td>\n",
              "      <td>5</td>\n",
              "      <td>238</td>\n",
              "      <td>73</td>\n",
              "      <td>1</td>\n",
              "      <td>32</td>\n",
              "    </tr>\n",
              "    <tr>\n",
              "      <th>4</th>\n",
              "      <td>337</td>\n",
              "      <td>0</td>\n",
              "      <td>243</td>\n",
              "      <td>47</td>\n",
              "      <td>0</td>\n",
              "      <td>39</td>\n",
              "    </tr>\n",
              "    <tr>\n",
              "      <th>5</th>\n",
              "      <td>323</td>\n",
              "      <td>1</td>\n",
              "      <td>200</td>\n",
              "      <td>39</td>\n",
              "      <td>0</td>\n",
              "      <td>19</td>\n",
              "    </tr>\n",
              "    <tr>\n",
              "      <th>6</th>\n",
              "      <td>318</td>\n",
              "      <td>2</td>\n",
              "      <td>160</td>\n",
              "      <td>27</td>\n",
              "      <td>2</td>\n",
              "      <td>20</td>\n",
              "    </tr>\n",
              "    <tr>\n",
              "      <th>7</th>\n",
              "      <td>343</td>\n",
              "      <td>1</td>\n",
              "      <td>113</td>\n",
              "      <td>28</td>\n",
              "      <td>2</td>\n",
              "      <td>9</td>\n",
              "    </tr>\n",
              "    <tr>\n",
              "      <th>8</th>\n",
              "      <td>301</td>\n",
              "      <td>2</td>\n",
              "      <td>96</td>\n",
              "      <td>14</td>\n",
              "      <td>0</td>\n",
              "      <td>7</td>\n",
              "    </tr>\n",
              "    <tr>\n",
              "      <th>9</th>\n",
              "      <td>317</td>\n",
              "      <td>0</td>\n",
              "      <td>77</td>\n",
              "      <td>17</td>\n",
              "      <td>2</td>\n",
              "      <td>7</td>\n",
              "    </tr>\n",
              "    <tr>\n",
              "      <th>10</th>\n",
              "      <td>227</td>\n",
              "      <td>1</td>\n",
              "      <td>50</td>\n",
              "      <td>16</td>\n",
              "      <td>2</td>\n",
              "      <td>8</td>\n",
              "    </tr>\n",
              "  </tbody>\n",
              "</table>\n",
              "</div>"
            ],
            "text/plain": [
              "race          African-American  Asian  ...  Native American  Other\n",
              "decile_score                           ...                        \n",
              "1                          365     15  ...                0    142\n",
              "2                          346      4  ...                2     60\n",
              "3                          298      5  ...                1     32\n",
              "4                          337      0  ...                0     39\n",
              "5                          323      1  ...                0     19\n",
              "6                          318      2  ...                2     20\n",
              "7                          343      1  ...                2      9\n",
              "8                          301      2  ...                0      7\n",
              "9                          317      0  ...                2      7\n",
              "10                         227      1  ...                2      8\n",
              "\n",
              "[10 rows x 6 columns]"
            ]
          },
          "metadata": {
            "tags": []
          },
          "execution_count": 21
        }
      ]
    },
    {
      "cell_type": "markdown",
      "metadata": {
        "id": "iVyKUdNqZaDZ"
      },
      "source": [
        "## Racial Bias in Compas\n",
        "\n",
        "After filtering out bad rows, our first question is whether there is a significant difference in Compas scores between races. To do so we need to change some variables into factors, and run a logistic regression, comparing low scores to high scores.\n"
      ]
    },
    {
      "cell_type": "code",
      "metadata": {
        "id": "Xnt93EmeZaDb"
      },
      "source": [
        "from sklearn.linear_model import LogisticRegression"
      ],
      "execution_count": 22,
      "outputs": []
    },
    {
      "cell_type": "code",
      "metadata": {
        "id": "01USbatKZaDb"
      },
      "source": [
        "lr = LogisticRegression(solver='lbfgs')"
      ],
      "execution_count": 23,
      "outputs": []
    },
    {
      "cell_type": "code",
      "metadata": {
        "id": "r_gfYjHjZaDc"
      },
      "source": [
        "df_crime = pd.get_dummies(df['c_charge_degree'],prefix='crimefactor',drop_first=True)\n",
        "df_age = pd.get_dummies(df['age_cat'],prefix='age')\n",
        "df_race = pd.get_dummies(df['race'],prefix='race')\n",
        "df_gender = pd.get_dummies(df['sex'],prefix='sex',drop_first=True)\n",
        "df_score = pd.get_dummies(df['score_text'] != 'Low',prefix='score_factor',drop_first=True)"
      ],
      "execution_count": 25,
      "outputs": []
    },
    {
      "cell_type": "code",
      "metadata": {
        "id": "HBomBDiYZaDc"
      },
      "source": [
        "df_lr = pd.concat([df_crime, df_age,df_race,df_gender,\n",
        "                   df['priors_count'],df['two_year_recid']\n",
        "                  ],axis=1)"
      ],
      "execution_count": 26,
      "outputs": []
    },
    {
      "cell_type": "code",
      "metadata": {
        "id": "5K9vzNZUZaDd",
        "outputId": "d21a7358-bf47-4445-979e-f9c073f66ae3",
        "colab": {
          "base_uri": "https://localhost:8080/"
        }
      },
      "source": [
        "lr.fit(df_lr,df_score.values.ravel())"
      ],
      "execution_count": 27,
      "outputs": [
        {
          "output_type": "execute_result",
          "data": {
            "text/plain": [
              "LogisticRegression(C=1.0, class_weight=None, dual=False, fit_intercept=True,\n",
              "                   intercept_scaling=1, l1_ratio=None, max_iter=100,\n",
              "                   multi_class='auto', n_jobs=None, penalty='l2',\n",
              "                   random_state=None, solver='lbfgs', tol=0.0001, verbose=0,\n",
              "                   warm_start=False)"
            ]
          },
          "metadata": {
            "tags": []
          },
          "execution_count": 27
        }
      ]
    },
    {
      "cell_type": "code",
      "metadata": {
        "id": "veoS7mc7ZaDe"
      },
      "source": [
        "cols = np.concatenate([df_crime.columns.values, \n",
        "                df_age.columns.values,\n",
        "                df_race.columns.values,\n",
        "                df_gender.columns.values,\n",
        "                ['priors_count'],\n",
        "                ['two_year_recid']\n",
        "               ])"
      ],
      "execution_count": 28,
      "outputs": []
    },
    {
      "cell_type": "code",
      "metadata": {
        "id": "C75Yd2DvZaDe",
        "outputId": "58064753-3236-4566-8d49-7a5c150f36e9",
        "colab": {
          "base_uri": "https://localhost:8080/"
        }
      },
      "source": [
        "assert len(cols) == len(lr.coef_[0])\n",
        "print('%.3f' % lr.intercept_, '(Intercept)') \n",
        "for i,j in zip(cols, lr.coef_[0]): print('%.3f' % j, i)"
      ],
      "execution_count": 29,
      "outputs": [
        {
          "output_type": "stream",
          "text": [
            "-1.335 (Intercept)\n",
            "-0.310 crimefactor_M\n",
            "0.018 age_25 - 45\n",
            "-1.328 age_Greater than 45\n",
            "1.319 age_Less than 25\n",
            "0.490 race_African-American\n",
            "-0.201 race_Asian\n",
            "0.013 race_Caucasian\n",
            "-0.409 race_Hispanic\n",
            "0.909 race_Native American\n",
            "-0.793 race_Other\n",
            "-0.219 sex_Male\n",
            "0.268 priors_count\n",
            "0.683 two_year_recid\n"
          ],
          "name": "stdout"
        }
      ]
    },
    {
      "cell_type": "markdown",
      "metadata": {
        "id": "Gxw-VJD2ZaDf"
      },
      "source": [
        "Black defendants are 44% more likely than white defendants to receive a higher score correcting for the seriousness of their crime, previous arrests, and future criminal behavior.\n",
        "\n"
      ]
    },
    {
      "cell_type": "code",
      "metadata": {
        "id": "tpg9X-GwZaDg",
        "outputId": "120fdbb6-7786-46f9-8551-1b87fcb694f8",
        "colab": {
          "base_uri": "https://localhost:8080/"
        }
      },
      "source": [
        "control = np.exp(-1.335) / (1 + np.exp(-1.335))\n",
        "black_odds = np.exp(0.490) / (1 - control + (control * np.exp(0.490)))\n",
        "print('Black defendants: %.4f' % black_odds)"
      ],
      "execution_count": 30,
      "outputs": [
        {
          "output_type": "stream",
          "text": [
            "Black defendants: 1.4423\n"
          ],
          "name": "stdout"
        }
      ]
    }
  ]
}